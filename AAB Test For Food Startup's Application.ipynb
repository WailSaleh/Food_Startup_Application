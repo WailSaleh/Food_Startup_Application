{
 "cells": [
  {
   "cell_type": "markdown",
   "metadata": {},
   "source": [
    "# Analyze User Behavior for The Company's Application"
   ]
  },
  {
   "cell_type": "markdown",
   "metadata": {},
   "source": [
    "You work at a startup that sells food products. You need to analyze user behavior for the company's application.\n",
    "\n",
    "First, study the sales funnel. Find out how users get to the purchase stage. Do users really get to this stage? How many are stuck in the previous phases? Which steps in particular?\n",
    "\n",
    "Next, view the results of the A/A/B test. (Read on for more information on A/A/B testing). Designers would like to change the fonts of the entire app, but managers fear that users will find the new design intimidating. They decide to make the decision based on the results of an A/A/B test.\n",
    "\n",
    "Users are divided into three groups: two control groups receive the old fonts and one test group receives the new ones. Find out which set of sources produces the best results.\n",
    "\n",
    "The creation of two A groups has certain advantages. We can adapt a principle according to which we will only be confident in the accuracy of our tests when the two control groups are similar. If there are significant differences between the A groups, it can help us uncover factors that can skew the results. Comparing control groups also tells us how much time and data we'll need when running other tests.\n",
    "\n",
    "You'll use the same dataset for general analysis and A/A/B analysis. In real projects, experiments are carried out constantly. Analysts study the quality of an application using general data, without paying attention to users' participation in experiments."
   ]
  },
  {
   "cell_type": "markdown",
   "metadata": {},
   "source": [
    "## Load data and prepare it for analysis"
   ]
  },
  {
   "cell_type": "markdown",
   "metadata": {},
   "source": [
    "### Initialization"
   ]
  },
  {
   "cell_type": "code",
   "execution_count": 162,
   "metadata": {},
   "outputs": [],
   "source": [
    "# Load the libraries\n",
    "import pandas as pd\n",
    "import numpy as np\n",
    "from matplotlib import pyplot as plt\n",
    "from scipy import stats as st\n",
    "from scipy.stats import fisher_exact\n",
    "import seaborn as sns"
   ]
  },
  {
   "cell_type": "markdown",
   "metadata": {},
   "source": [
    "### Load Data"
   ]
  },
  {
   "cell_type": "code",
   "execution_count": 163,
   "metadata": {},
   "outputs": [
    {
     "name": "stdout",
     "output_type": "stream",
     "text": [
      "<class 'pandas.core.frame.DataFrame'>\n",
      "RangeIndex: 244126 entries, 0 to 244125\n",
      "Data columns (total 4 columns):\n",
      " #   Column          Non-Null Count   Dtype \n",
      "---  ------          --------------   ----- \n",
      " 0   EventName       244126 non-null  object\n",
      " 1   DeviceIDHash    244126 non-null  int64 \n",
      " 2   EventTimestamp  244126 non-null  int64 \n",
      " 3   ExpId           244126 non-null  int64 \n",
      "dtypes: int64(3), object(1)\n",
      "memory usage: 22.9 MB\n"
     ]
    },
    {
     "data": {
      "text/html": [
       "<div>\n",
       "<style scoped>\n",
       "    .dataframe tbody tr th:only-of-type {\n",
       "        vertical-align: middle;\n",
       "    }\n",
       "\n",
       "    .dataframe tbody tr th {\n",
       "        vertical-align: top;\n",
       "    }\n",
       "\n",
       "    .dataframe thead th {\n",
       "        text-align: right;\n",
       "    }\n",
       "</style>\n",
       "<table border=\"1\" class=\"dataframe\">\n",
       "  <thead>\n",
       "    <tr style=\"text-align: right;\">\n",
       "      <th></th>\n",
       "      <th>EventName</th>\n",
       "      <th>DeviceIDHash</th>\n",
       "      <th>EventTimestamp</th>\n",
       "      <th>ExpId</th>\n",
       "    </tr>\n",
       "  </thead>\n",
       "  <tbody>\n",
       "    <tr>\n",
       "      <th>0</th>\n",
       "      <td>MainScreenAppear</td>\n",
       "      <td>4575588528974610257</td>\n",
       "      <td>1564029816</td>\n",
       "      <td>246</td>\n",
       "    </tr>\n",
       "    <tr>\n",
       "      <th>1</th>\n",
       "      <td>MainScreenAppear</td>\n",
       "      <td>7416695313311560658</td>\n",
       "      <td>1564053102</td>\n",
       "      <td>246</td>\n",
       "    </tr>\n",
       "    <tr>\n",
       "      <th>2</th>\n",
       "      <td>PaymentScreenSuccessful</td>\n",
       "      <td>3518123091307005509</td>\n",
       "      <td>1564054127</td>\n",
       "      <td>248</td>\n",
       "    </tr>\n",
       "    <tr>\n",
       "      <th>3</th>\n",
       "      <td>CartScreenAppear</td>\n",
       "      <td>3518123091307005509</td>\n",
       "      <td>1564054127</td>\n",
       "      <td>248</td>\n",
       "    </tr>\n",
       "    <tr>\n",
       "      <th>4</th>\n",
       "      <td>PaymentScreenSuccessful</td>\n",
       "      <td>6217807653094995999</td>\n",
       "      <td>1564055322</td>\n",
       "      <td>248</td>\n",
       "    </tr>\n",
       "    <tr>\n",
       "      <th>...</th>\n",
       "      <td>...</td>\n",
       "      <td>...</td>\n",
       "      <td>...</td>\n",
       "      <td>...</td>\n",
       "    </tr>\n",
       "    <tr>\n",
       "      <th>244121</th>\n",
       "      <td>MainScreenAppear</td>\n",
       "      <td>4599628364049201812</td>\n",
       "      <td>1565212345</td>\n",
       "      <td>247</td>\n",
       "    </tr>\n",
       "    <tr>\n",
       "      <th>244122</th>\n",
       "      <td>MainScreenAppear</td>\n",
       "      <td>5849806612437486590</td>\n",
       "      <td>1565212439</td>\n",
       "      <td>246</td>\n",
       "    </tr>\n",
       "    <tr>\n",
       "      <th>244123</th>\n",
       "      <td>MainScreenAppear</td>\n",
       "      <td>5746969938801999050</td>\n",
       "      <td>1565212483</td>\n",
       "      <td>246</td>\n",
       "    </tr>\n",
       "    <tr>\n",
       "      <th>244124</th>\n",
       "      <td>MainScreenAppear</td>\n",
       "      <td>5746969938801999050</td>\n",
       "      <td>1565212498</td>\n",
       "      <td>246</td>\n",
       "    </tr>\n",
       "    <tr>\n",
       "      <th>244125</th>\n",
       "      <td>OffersScreenAppear</td>\n",
       "      <td>5746969938801999050</td>\n",
       "      <td>1565212517</td>\n",
       "      <td>246</td>\n",
       "    </tr>\n",
       "  </tbody>\n",
       "</table>\n",
       "<p>244126 rows × 4 columns</p>\n",
       "</div>"
      ],
      "text/plain": [
       "                      EventName         DeviceIDHash  EventTimestamp  ExpId\n",
       "0              MainScreenAppear  4575588528974610257      1564029816    246\n",
       "1              MainScreenAppear  7416695313311560658      1564053102    246\n",
       "2       PaymentScreenSuccessful  3518123091307005509      1564054127    248\n",
       "3              CartScreenAppear  3518123091307005509      1564054127    248\n",
       "4       PaymentScreenSuccessful  6217807653094995999      1564055322    248\n",
       "...                         ...                  ...             ...    ...\n",
       "244121         MainScreenAppear  4599628364049201812      1565212345    247\n",
       "244122         MainScreenAppear  5849806612437486590      1565212439    246\n",
       "244123         MainScreenAppear  5746969938801999050      1565212483    246\n",
       "244124         MainScreenAppear  5746969938801999050      1565212498    246\n",
       "244125       OffersScreenAppear  5746969938801999050      1565212517    246\n",
       "\n",
       "[244126 rows x 4 columns]"
      ]
     },
     "execution_count": 163,
     "metadata": {},
     "output_type": "execute_result"
    }
   ],
   "source": [
    "# Laod data containing events actions\n",
    "events_df = pd.read_csv(\"/datasets/logs_exp_us.csv\", sep = '\\t')\n",
    "events_df.info(memory_usage='deep')\n",
    "events_df"
   ]
  },
  {
   "cell_type": "markdown",
   "metadata": {},
   "source": [
    "### Rename Columns"
   ]
  },
  {
   "cell_type": "code",
   "execution_count": 164,
   "metadata": {},
   "outputs": [
    {
     "data": {
      "text/html": [
       "<div>\n",
       "<style scoped>\n",
       "    .dataframe tbody tr th:only-of-type {\n",
       "        vertical-align: middle;\n",
       "    }\n",
       "\n",
       "    .dataframe tbody tr th {\n",
       "        vertical-align: top;\n",
       "    }\n",
       "\n",
       "    .dataframe thead th {\n",
       "        text-align: right;\n",
       "    }\n",
       "</style>\n",
       "<table border=\"1\" class=\"dataframe\">\n",
       "  <thead>\n",
       "    <tr style=\"text-align: right;\">\n",
       "      <th></th>\n",
       "      <th>event_name</th>\n",
       "      <th>user_id</th>\n",
       "      <th>event_timestamp</th>\n",
       "      <th>exp_id</th>\n",
       "    </tr>\n",
       "  </thead>\n",
       "  <tbody>\n",
       "    <tr>\n",
       "      <th>0</th>\n",
       "      <td>MainScreenAppear</td>\n",
       "      <td>4575588528974610257</td>\n",
       "      <td>1564029816</td>\n",
       "      <td>246</td>\n",
       "    </tr>\n",
       "    <tr>\n",
       "      <th>1</th>\n",
       "      <td>MainScreenAppear</td>\n",
       "      <td>7416695313311560658</td>\n",
       "      <td>1564053102</td>\n",
       "      <td>246</td>\n",
       "    </tr>\n",
       "    <tr>\n",
       "      <th>2</th>\n",
       "      <td>PaymentScreenSuccessful</td>\n",
       "      <td>3518123091307005509</td>\n",
       "      <td>1564054127</td>\n",
       "      <td>248</td>\n",
       "    </tr>\n",
       "    <tr>\n",
       "      <th>3</th>\n",
       "      <td>CartScreenAppear</td>\n",
       "      <td>3518123091307005509</td>\n",
       "      <td>1564054127</td>\n",
       "      <td>248</td>\n",
       "    </tr>\n",
       "    <tr>\n",
       "      <th>4</th>\n",
       "      <td>PaymentScreenSuccessful</td>\n",
       "      <td>6217807653094995999</td>\n",
       "      <td>1564055322</td>\n",
       "      <td>248</td>\n",
       "    </tr>\n",
       "    <tr>\n",
       "      <th>...</th>\n",
       "      <td>...</td>\n",
       "      <td>...</td>\n",
       "      <td>...</td>\n",
       "      <td>...</td>\n",
       "    </tr>\n",
       "    <tr>\n",
       "      <th>244121</th>\n",
       "      <td>MainScreenAppear</td>\n",
       "      <td>4599628364049201812</td>\n",
       "      <td>1565212345</td>\n",
       "      <td>247</td>\n",
       "    </tr>\n",
       "    <tr>\n",
       "      <th>244122</th>\n",
       "      <td>MainScreenAppear</td>\n",
       "      <td>5849806612437486590</td>\n",
       "      <td>1565212439</td>\n",
       "      <td>246</td>\n",
       "    </tr>\n",
       "    <tr>\n",
       "      <th>244123</th>\n",
       "      <td>MainScreenAppear</td>\n",
       "      <td>5746969938801999050</td>\n",
       "      <td>1565212483</td>\n",
       "      <td>246</td>\n",
       "    </tr>\n",
       "    <tr>\n",
       "      <th>244124</th>\n",
       "      <td>MainScreenAppear</td>\n",
       "      <td>5746969938801999050</td>\n",
       "      <td>1565212498</td>\n",
       "      <td>246</td>\n",
       "    </tr>\n",
       "    <tr>\n",
       "      <th>244125</th>\n",
       "      <td>OffersScreenAppear</td>\n",
       "      <td>5746969938801999050</td>\n",
       "      <td>1565212517</td>\n",
       "      <td>246</td>\n",
       "    </tr>\n",
       "  </tbody>\n",
       "</table>\n",
       "<p>244126 rows × 4 columns</p>\n",
       "</div>"
      ],
      "text/plain": [
       "                     event_name              user_id  event_timestamp  exp_id\n",
       "0              MainScreenAppear  4575588528974610257       1564029816     246\n",
       "1              MainScreenAppear  7416695313311560658       1564053102     246\n",
       "2       PaymentScreenSuccessful  3518123091307005509       1564054127     248\n",
       "3              CartScreenAppear  3518123091307005509       1564054127     248\n",
       "4       PaymentScreenSuccessful  6217807653094995999       1564055322     248\n",
       "...                         ...                  ...              ...     ...\n",
       "244121         MainScreenAppear  4599628364049201812       1565212345     247\n",
       "244122         MainScreenAppear  5849806612437486590       1565212439     246\n",
       "244123         MainScreenAppear  5746969938801999050       1565212483     246\n",
       "244124         MainScreenAppear  5746969938801999050       1565212498     246\n",
       "244125       OffersScreenAppear  5746969938801999050       1565212517     246\n",
       "\n",
       "[244126 rows x 4 columns]"
      ]
     },
     "execution_count": 164,
     "metadata": {},
     "output_type": "execute_result"
    }
   ],
   "source": [
    "# Renaming columns for convenience\n",
    "events_df.rename(columns = {'EventName': 'event_name', 'DeviceIDHash': 'user_id',\n",
    "                        'EventTimestamp': 'event_timestamp','ExpId': 'exp_id'}, inplace=True)\n",
    "events_df"
   ]
  },
  {
   "cell_type": "markdown",
   "metadata": {},
   "source": [
    "### Check for missing values and data types."
   ]
  },
  {
   "cell_type": "code",
   "execution_count": 165,
   "metadata": {},
   "outputs": [
    {
     "name": "stdout",
     "output_type": "stream",
     "text": [
      "event_name         0\n",
      "user_id            0\n",
      "event_timestamp    0\n",
      "exp_id             0\n",
      "dtype: int64\n",
      "event_name         object\n",
      "user_id             int64\n",
      "event_timestamp     int64\n",
      "exp_id              int64\n",
      "dtype: object\n",
      "<class 'pandas.core.frame.DataFrame'>\n",
      "RangeIndex: 244126 entries, 0 to 244125\n",
      "Data columns (total 4 columns):\n",
      " #   Column           Non-Null Count   Dtype         \n",
      "---  ------           --------------   -----         \n",
      " 0   event_name       244126 non-null  object        \n",
      " 1   user_id          244126 non-null  int64         \n",
      " 2   event_timestamp  244126 non-null  datetime64[ns]\n",
      " 3   exp_id           244126 non-null  int64         \n",
      "dtypes: datetime64[ns](1), int64(2), object(1)\n",
      "memory usage: 7.5+ MB\n"
     ]
    }
   ],
   "source": [
    "#Check for null-values\n",
    "print(events_df.isna().sum())\n",
    "\n",
    "#Checking datatype\n",
    "print(events_df.dtypes)\n",
    "\n",
    "# Convert event_timestamp to datetime\n",
    "events_df['event_timestamp'] = pd.to_datetime(events_df['event_timestamp'], unit='s')\n",
    "events_df.info()"
   ]
  },
  {
   "cell_type": "markdown",
   "metadata": {},
   "source": [
    "As we can see thre are no missing values in the data frame of events and the data type are corrct except for timestamp as we have changed it to datetime type"
   ]
  },
  {
   "cell_type": "markdown",
   "metadata": {},
   "source": [
    "### Add a date and time column and a separate column for dates"
   ]
  },
  {
   "cell_type": "code",
   "execution_count": 166,
   "metadata": {},
   "outputs": [
    {
     "data": {
      "text/html": [
       "<div>\n",
       "<style scoped>\n",
       "    .dataframe tbody tr th:only-of-type {\n",
       "        vertical-align: middle;\n",
       "    }\n",
       "\n",
       "    .dataframe tbody tr th {\n",
       "        vertical-align: top;\n",
       "    }\n",
       "\n",
       "    .dataframe thead th {\n",
       "        text-align: right;\n",
       "    }\n",
       "</style>\n",
       "<table border=\"1\" class=\"dataframe\">\n",
       "  <thead>\n",
       "    <tr style=\"text-align: right;\">\n",
       "      <th></th>\n",
       "      <th>event_name</th>\n",
       "      <th>user_id</th>\n",
       "      <th>event_timestamp</th>\n",
       "      <th>exp_id</th>\n",
       "      <th>event_date</th>\n",
       "      <th>event_time</th>\n",
       "    </tr>\n",
       "  </thead>\n",
       "  <tbody>\n",
       "    <tr>\n",
       "      <th>0</th>\n",
       "      <td>MainScreenAppear</td>\n",
       "      <td>4575588528974610257</td>\n",
       "      <td>2019-07-25 04:43:36</td>\n",
       "      <td>246</td>\n",
       "      <td>2019-07-25</td>\n",
       "      <td>04:43:36</td>\n",
       "    </tr>\n",
       "    <tr>\n",
       "      <th>1</th>\n",
       "      <td>MainScreenAppear</td>\n",
       "      <td>7416695313311560658</td>\n",
       "      <td>2019-07-25 11:11:42</td>\n",
       "      <td>246</td>\n",
       "      <td>2019-07-25</td>\n",
       "      <td>11:11:42</td>\n",
       "    </tr>\n",
       "    <tr>\n",
       "      <th>2</th>\n",
       "      <td>PaymentScreenSuccessful</td>\n",
       "      <td>3518123091307005509</td>\n",
       "      <td>2019-07-25 11:28:47</td>\n",
       "      <td>248</td>\n",
       "      <td>2019-07-25</td>\n",
       "      <td>11:28:47</td>\n",
       "    </tr>\n",
       "    <tr>\n",
       "      <th>3</th>\n",
       "      <td>CartScreenAppear</td>\n",
       "      <td>3518123091307005509</td>\n",
       "      <td>2019-07-25 11:28:47</td>\n",
       "      <td>248</td>\n",
       "      <td>2019-07-25</td>\n",
       "      <td>11:28:47</td>\n",
       "    </tr>\n",
       "    <tr>\n",
       "      <th>4</th>\n",
       "      <td>PaymentScreenSuccessful</td>\n",
       "      <td>6217807653094995999</td>\n",
       "      <td>2019-07-25 11:48:42</td>\n",
       "      <td>248</td>\n",
       "      <td>2019-07-25</td>\n",
       "      <td>11:48:42</td>\n",
       "    </tr>\n",
       "    <tr>\n",
       "      <th>...</th>\n",
       "      <td>...</td>\n",
       "      <td>...</td>\n",
       "      <td>...</td>\n",
       "      <td>...</td>\n",
       "      <td>...</td>\n",
       "      <td>...</td>\n",
       "    </tr>\n",
       "    <tr>\n",
       "      <th>244121</th>\n",
       "      <td>MainScreenAppear</td>\n",
       "      <td>4599628364049201812</td>\n",
       "      <td>2019-08-07 21:12:25</td>\n",
       "      <td>247</td>\n",
       "      <td>2019-08-07</td>\n",
       "      <td>21:12:25</td>\n",
       "    </tr>\n",
       "    <tr>\n",
       "      <th>244122</th>\n",
       "      <td>MainScreenAppear</td>\n",
       "      <td>5849806612437486590</td>\n",
       "      <td>2019-08-07 21:13:59</td>\n",
       "      <td>246</td>\n",
       "      <td>2019-08-07</td>\n",
       "      <td>21:13:59</td>\n",
       "    </tr>\n",
       "    <tr>\n",
       "      <th>244123</th>\n",
       "      <td>MainScreenAppear</td>\n",
       "      <td>5746969938801999050</td>\n",
       "      <td>2019-08-07 21:14:43</td>\n",
       "      <td>246</td>\n",
       "      <td>2019-08-07</td>\n",
       "      <td>21:14:43</td>\n",
       "    </tr>\n",
       "    <tr>\n",
       "      <th>244124</th>\n",
       "      <td>MainScreenAppear</td>\n",
       "      <td>5746969938801999050</td>\n",
       "      <td>2019-08-07 21:14:58</td>\n",
       "      <td>246</td>\n",
       "      <td>2019-08-07</td>\n",
       "      <td>21:14:58</td>\n",
       "    </tr>\n",
       "    <tr>\n",
       "      <th>244125</th>\n",
       "      <td>OffersScreenAppear</td>\n",
       "      <td>5746969938801999050</td>\n",
       "      <td>2019-08-07 21:15:17</td>\n",
       "      <td>246</td>\n",
       "      <td>2019-08-07</td>\n",
       "      <td>21:15:17</td>\n",
       "    </tr>\n",
       "  </tbody>\n",
       "</table>\n",
       "<p>244126 rows × 6 columns</p>\n",
       "</div>"
      ],
      "text/plain": [
       "                     event_name              user_id     event_timestamp  \\\n",
       "0              MainScreenAppear  4575588528974610257 2019-07-25 04:43:36   \n",
       "1              MainScreenAppear  7416695313311560658 2019-07-25 11:11:42   \n",
       "2       PaymentScreenSuccessful  3518123091307005509 2019-07-25 11:28:47   \n",
       "3              CartScreenAppear  3518123091307005509 2019-07-25 11:28:47   \n",
       "4       PaymentScreenSuccessful  6217807653094995999 2019-07-25 11:48:42   \n",
       "...                         ...                  ...                 ...   \n",
       "244121         MainScreenAppear  4599628364049201812 2019-08-07 21:12:25   \n",
       "244122         MainScreenAppear  5849806612437486590 2019-08-07 21:13:59   \n",
       "244123         MainScreenAppear  5746969938801999050 2019-08-07 21:14:43   \n",
       "244124         MainScreenAppear  5746969938801999050 2019-08-07 21:14:58   \n",
       "244125       OffersScreenAppear  5746969938801999050 2019-08-07 21:15:17   \n",
       "\n",
       "        exp_id  event_date event_time  \n",
       "0          246  2019-07-25   04:43:36  \n",
       "1          246  2019-07-25   11:11:42  \n",
       "2          248  2019-07-25   11:28:47  \n",
       "3          248  2019-07-25   11:28:47  \n",
       "4          248  2019-07-25   11:48:42  \n",
       "...        ...         ...        ...  \n",
       "244121     247  2019-08-07   21:12:25  \n",
       "244122     246  2019-08-07   21:13:59  \n",
       "244123     246  2019-08-07   21:14:43  \n",
       "244124     246  2019-08-07   21:14:58  \n",
       "244125     246  2019-08-07   21:15:17  \n",
       "\n",
       "[244126 rows x 6 columns]"
      ]
     },
     "execution_count": 166,
     "metadata": {},
     "output_type": "execute_result"
    }
   ],
   "source": [
    "# Add separate date and time columns\n",
    "events_df['event_date'] = events_df['event_timestamp'].dt.date\n",
    "events_df['event_time'] = events_df['event_timestamp'].dt.time\n",
    "events_df"
   ]
  },
  {
   "cell_type": "markdown",
   "metadata": {},
   "source": [
    "## Study and check the data"
   ]
  },
  {
   "cell_type": "markdown",
   "metadata": {},
   "source": [
    "### How many events are in the logs?"
   ]
  },
  {
   "cell_type": "code",
   "execution_count": 167,
   "metadata": {},
   "outputs": [
    {
     "name": "stdout",
     "output_type": "stream",
     "text": [
      "Total number of events in the log equal 244126\n"
     ]
    }
   ],
   "source": [
    "# Count the number of events\n",
    "total_events = events_df['event_name'].count()\n",
    "print('Total number of events in the log equal', total_events)"
   ]
  },
  {
   "cell_type": "markdown",
   "metadata": {},
   "source": [
    "### How many users are in the logs?"
   ]
  },
  {
   "cell_type": "code",
   "execution_count": 168,
   "metadata": {},
   "outputs": [
    {
     "name": "stdout",
     "output_type": "stream",
     "text": [
      "Total number of unique users in the log equal 7551\n"
     ]
    }
   ],
   "source": [
    "# Count the number of unique users\n",
    "total_users = events_df['user_id'].nunique()\n",
    "print('Total number of unique users in the log equal', total_users)"
   ]
  },
  {
   "cell_type": "markdown",
   "metadata": {},
   "source": [
    "### What is the average number of events per user?"
   ]
  },
  {
   "cell_type": "code",
   "execution_count": 169,
   "metadata": {},
   "outputs": [
    {
     "name": "stdout",
     "output_type": "stream",
     "text": [
      "The average number of events per user equal 32.33028737915508\n"
     ]
    }
   ],
   "source": [
    "# Calculate the average number of events per user\n",
    "average_events_per_user = total_events / total_users\n",
    "print('The average number of events per user equal', average_events_per_user)"
   ]
  },
  {
   "cell_type": "markdown",
   "metadata": {},
   "source": [
    "### What is the time period that the data covers?"
   ]
  },
  {
   "cell_type": "markdown",
   "metadata": {},
   "source": [
    "#### Find the maximum and minimum dates. Draw a histogram by date and time."
   ]
  },
  {
   "cell_type": "code",
   "execution_count": 170,
   "metadata": {},
   "outputs": [
    {
     "name": "stdout",
     "output_type": "stream",
     "text": [
      "The minimum date equal 2019-07-25 04:43:36\n",
      "The maximum date equal 2019-08-07 21:15:17\n"
     ]
    }
   ],
   "source": [
    "# Determine the date range (min and max dates)\n",
    "min_date = events_df['event_timestamp'].min()\n",
    "max_date = events_df['event_timestamp'].max()\n",
    "\n",
    "print('The minimum date equal', min_date)\n",
    "print('The maximum date equal', max_date)"
   ]
  },
  {
   "cell_type": "code",
   "execution_count": 171,
   "metadata": {},
   "outputs": [
    {
     "data": {
      "image/png": "[encoded data removed]",
      "text/plain": [
       "<Figure size 800x600 with 1 Axes>"
      ]
     },
     "metadata": {},
     "output_type": "display_data"
    }
   ],
   "source": [
    "# Plot histogram for event dates\n",
    "plt.figure(figsize=(8, 6))\n",
    "sns.histplot(events_df['event_date'], bins=30)\n",
    "plt.title('Event Distribution by Peeiod')\n",
    "plt.xlabel('Date')\n",
    "plt.ylabel('Number of Events')\n",
    "plt.xticks(rotation = 90)\n",
    "plt.show()"
   ]
  },
  {
   "cell_type": "markdown",
   "metadata": {},
   "source": [
    "As we can see most of the events started to happen during month of August 2019 with a little number during the end of July 2019"
   ]
  },
  {
   "cell_type": "code",
   "execution_count": 172,
   "metadata": {},
   "outputs": [
    {
     "data": {
      "image/png": "[encoded data removed]",
      "text/plain": [
       "<Figure size 1000x600 with 1 Axes>"
      ]
     },
     "metadata": {},
     "output_type": "display_data"
    }
   ],
   "source": [
    "# Convert 'event_time' to hours for better histogram visualization\n",
    "events_df['event_hour'] = pd.to_datetime(events_df['event_time'], format='%H:%M:%S').dt.hour\n",
    "\n",
    "# Plot histogram for event times\n",
    "plt.figure(figsize=(10, 6))\n",
    "sns.histplot(events_df['event_hour'], bins=24, kde=False)\n",
    "plt.title('Event Distribution by Time of Day')\n",
    "plt.xlabel('Hour of Day')\n",
    "plt.ylabel('Number of Events')\n",
    "plt.xticks(range(0, 24))\n",
    "plt.show()"
   ]
  },
  {
   "cell_type": "markdown",
   "metadata": {},
   "source": [
    "All the hours of the day marked such a number of events with this number increase along the day to reach a peak in 14-15 o'clock afternoon, and starts to dcrease gradually witht the end of the day at noon"
   ]
  },
  {
   "cell_type": "markdown",
   "metadata": {},
   "source": [
    "#### Can you be sure that you have the equally complete data for the entire period? Older events may end up appearing in some users' journals for technical reasons, and this can distort the overall picture. Find the moment when the data starts to be complete, and skip the previous section. What period does the data actually represent?"
   ]
  },
  {
   "cell_type": "code",
   "execution_count": 173,
   "metadata": {},
   "outputs": [
    {
     "name": "stdout",
     "output_type": "stream",
     "text": [
      "The complete data now represents the period from  2019-08-01 00:07:28  to  2019-08-07 21:15:17\n"
     ]
    }
   ],
   "source": [
    "# Define the start of the complete data period (August 1, 2019)\n",
    "complete_data_start_date = pd.Timestamp('2019-08-01')\n",
    "\n",
    "# Filter the dataset to include only data from August 2019 onward\n",
    "events_df_complete = events_df[events_df['event_timestamp'] >= complete_data_start_date]\n",
    "\n",
    "# Verify the new date range\n",
    "new_min_date = events_df_complete['event_timestamp'].min()\n",
    "new_max_date = events_df_complete['event_timestamp'].max()\n",
    "\n",
    "print('The complete data now represents the period from ', new_min_date,' to ', new_max_date)"
   ]
  },
  {
   "cell_type": "markdown",
   "metadata": {},
   "source": [
    "### Have you lost a lot of events and users when deleting the oldest data?"
   ]
  },
  {
   "cell_type": "code",
   "execution_count": 174,
   "metadata": {},
   "outputs": [
    {
     "name": "stdout",
     "output_type": "stream",
     "text": [
      "Number of events before filtering:  244126\n",
      "Number of users before filtering:  7551\n",
      "Number of events after filtering:  241298\n",
      "Number of users after filtering:  7534\n"
     ]
    }
   ],
   "source": [
    "# Number of events and users after filtering\n",
    "num_events_after = events_df_complete.shape[0]\n",
    "num_users_after = events_df_complete['user_id'].nunique()\n",
    "\n",
    "print('Number of events before filtering: ', total_events)\n",
    "print('Number of users before filtering: ', total_users)\n",
    "print('Number of events after filtering: ', num_events_after)\n",
    "print('Number of users after filtering: ', num_users_after)"
   ]
  },
  {
   "cell_type": "markdown",
   "metadata": {},
   "source": [
    "After deleting oldest data number of events has been decreased by 2828 to become 241298 and number of users has become 7534"
   ]
  },
  {
   "cell_type": "markdown",
   "metadata": {},
   "source": [
    "### Make sure you have users from all three experimental groups."
   ]
  },
  {
   "cell_type": "code",
   "execution_count": 175,
   "metadata": {},
   "outputs": [
    {
     "name": "stdout",
     "output_type": "stream",
     "text": [
      "Experimental groups present:  [246 248 247]\n"
     ]
    }
   ],
   "source": [
    "# Check the presence of all experimental groups\n",
    "exp_groups = events_df['exp_id'].unique()\n",
    "print('Experimental groups present: ', exp_groups)"
   ]
  },
  {
   "cell_type": "markdown",
   "metadata": {},
   "source": [
    "## Study the event funnel"
   ]
  },
  {
   "cell_type": "markdown",
   "metadata": {},
   "source": [
    "### See which events are in the journals and their frequency of occurrence. Sort them by frequency."
   ]
  },
  {
   "cell_type": "code",
   "execution_count": 176,
   "metadata": {},
   "outputs": [
    {
     "name": "stdout",
     "output_type": "stream",
     "text": [
      "MainScreenAppear           117431\n",
      "OffersScreenAppear          46350\n",
      "CartScreenAppear            42365\n",
      "PaymentScreenSuccessful     34113\n",
      "Tutorial                     1039\n",
      "Name: event_name, dtype: int64\n"
     ]
    }
   ],
   "source": [
    "# Count the frequency of each event\n",
    "event_frequencies = events_df_complete['event_name'].value_counts()\n",
    "\n",
    "print(event_frequencies)"
   ]
  },
  {
   "cell_type": "markdown",
   "metadata": {},
   "source": [
    "There are 5 events with MainScreen having the most frequency followed by OffersScreen and CartScreen then PaymentScreen. Tutorial event shows a significant low frequency informing that this events wasn't applied too much"
   ]
  },
  {
   "cell_type": "markdown",
   "metadata": {},
   "source": [
    "### Find the number of users who performed each of these actions. Sort the events by the number of users. Calculate the proportion of users who performed the action at least once."
   ]
  },
  {
   "cell_type": "code",
   "execution_count": 177,
   "metadata": {},
   "outputs": [],
   "source": [
    "# Count the number of unique users who ran each event\n",
    "users_per_event = events_df_complete.groupby('event_name')['user_id'].nunique().sort_values(ascending=False)\n",
    "\n",
    "# Calculate the proportion of users who ran each event at least once\n",
    "total_users = events_df_complete['user_id'].nunique()\n",
    "proportion_users_per_event = users_per_event / total_users"
   ]
  },
  {
   "cell_type": "code",
   "execution_count": 178,
   "metadata": {},
   "outputs": [
    {
     "name": "stdout",
     "output_type": "stream",
     "text": [
      "                         users_count  proportion\n",
      "event_name                                      \n",
      "MainScreenAppear                7419    0.984736\n",
      "OffersScreenAppear              4593    0.609636\n",
      "CartScreenAppear                3734    0.495620\n",
      "PaymentScreenSuccessful         3539    0.469737\n",
      "Tutorial                         840    0.111495\n"
     ]
    }
   ],
   "source": [
    "# Display the number of users and the ratio\n",
    "event_analysis = pd.DataFrame({'users_count': users_per_event,'proportion': proportion_users_per_event})\n",
    "print(event_analysis)"
   ]
  },
  {
   "cell_type": "markdown",
   "metadata": {},
   "source": [
    "### In what order do you think the actions occurred? Are they all part of a single sequence? You don't need to take them into account when calculating the funnel."
   ]
  },
  {
   "cell_type": "code",
   "execution_count": 179,
   "metadata": {},
   "outputs": [
    {
     "data": {
      "text/html": [
       "<div>\n",
       "<style scoped>\n",
       "    .dataframe tbody tr th:only-of-type {\n",
       "        vertical-align: middle;\n",
       "    }\n",
       "\n",
       "    .dataframe tbody tr th {\n",
       "        vertical-align: top;\n",
       "    }\n",
       "\n",
       "    .dataframe thead th {\n",
       "        text-align: right;\n",
       "    }\n",
       "</style>\n",
       "<table border=\"1\" class=\"dataframe\">\n",
       "  <thead>\n",
       "    <tr style=\"text-align: right;\">\n",
       "      <th></th>\n",
       "      <th>event_name</th>\n",
       "      <th>user_id</th>\n",
       "      <th>event_timestamp</th>\n",
       "      <th>exp_id</th>\n",
       "      <th>event_date</th>\n",
       "      <th>event_time</th>\n",
       "      <th>event_hour</th>\n",
       "    </tr>\n",
       "  </thead>\n",
       "  <tbody>\n",
       "    <tr>\n",
       "      <th>197263</th>\n",
       "      <td>MainScreenAppear</td>\n",
       "      <td>6888746892508752</td>\n",
       "      <td>2019-08-06 14:06:34</td>\n",
       "      <td>246</td>\n",
       "      <td>2019-08-06</td>\n",
       "      <td>14:06:34</td>\n",
       "      <td>14</td>\n",
       "    </tr>\n",
       "    <tr>\n",
       "      <th>209196</th>\n",
       "      <td>MainScreenAppear</td>\n",
       "      <td>6909561520679493</td>\n",
       "      <td>2019-08-06 18:52:54</td>\n",
       "      <td>247</td>\n",
       "      <td>2019-08-06</td>\n",
       "      <td>18:52:54</td>\n",
       "      <td>18</td>\n",
       "    </tr>\n",
       "    <tr>\n",
       "      <th>209199</th>\n",
       "      <td>PaymentScreenSuccessful</td>\n",
       "      <td>6909561520679493</td>\n",
       "      <td>2019-08-06 18:52:58</td>\n",
       "      <td>247</td>\n",
       "      <td>2019-08-06</td>\n",
       "      <td>18:52:58</td>\n",
       "      <td>18</td>\n",
       "    </tr>\n",
       "    <tr>\n",
       "      <th>209200</th>\n",
       "      <td>CartScreenAppear</td>\n",
       "      <td>6909561520679493</td>\n",
       "      <td>2019-08-06 18:52:58</td>\n",
       "      <td>247</td>\n",
       "      <td>2019-08-06</td>\n",
       "      <td>18:52:58</td>\n",
       "      <td>18</td>\n",
       "    </tr>\n",
       "    <tr>\n",
       "      <th>209201</th>\n",
       "      <td>MainScreenAppear</td>\n",
       "      <td>6909561520679493</td>\n",
       "      <td>2019-08-06 18:52:58</td>\n",
       "      <td>247</td>\n",
       "      <td>2019-08-06</td>\n",
       "      <td>18:52:58</td>\n",
       "      <td>18</td>\n",
       "    </tr>\n",
       "    <tr>\n",
       "      <th>...</th>\n",
       "      <td>...</td>\n",
       "      <td>...</td>\n",
       "      <td>...</td>\n",
       "      <td>...</td>\n",
       "      <td>...</td>\n",
       "      <td>...</td>\n",
       "      <td>...</td>\n",
       "    </tr>\n",
       "    <tr>\n",
       "      <th>221366</th>\n",
       "      <td>MainScreenAppear</td>\n",
       "      <td>9222603179720523844</td>\n",
       "      <td>2019-08-07 09:13:37</td>\n",
       "      <td>248</td>\n",
       "      <td>2019-08-07</td>\n",
       "      <td>09:13:37</td>\n",
       "      <td>9</td>\n",
       "    </tr>\n",
       "    <tr>\n",
       "      <th>221404</th>\n",
       "      <td>MainScreenAppear</td>\n",
       "      <td>9222603179720523844</td>\n",
       "      <td>2019-08-07 09:14:53</td>\n",
       "      <td>248</td>\n",
       "      <td>2019-08-07</td>\n",
       "      <td>09:14:53</td>\n",
       "      <td>9</td>\n",
       "    </tr>\n",
       "    <tr>\n",
       "      <th>221406</th>\n",
       "      <td>MainScreenAppear</td>\n",
       "      <td>9222603179720523844</td>\n",
       "      <td>2019-08-07 09:15:01</td>\n",
       "      <td>248</td>\n",
       "      <td>2019-08-07</td>\n",
       "      <td>09:15:01</td>\n",
       "      <td>9</td>\n",
       "    </tr>\n",
       "    <tr>\n",
       "      <th>221412</th>\n",
       "      <td>MainScreenAppear</td>\n",
       "      <td>9222603179720523844</td>\n",
       "      <td>2019-08-07 09:15:13</td>\n",
       "      <td>248</td>\n",
       "      <td>2019-08-07</td>\n",
       "      <td>09:15:13</td>\n",
       "      <td>9</td>\n",
       "    </tr>\n",
       "    <tr>\n",
       "      <th>221438</th>\n",
       "      <td>MainScreenAppear</td>\n",
       "      <td>9222603179720523844</td>\n",
       "      <td>2019-08-07 09:16:20</td>\n",
       "      <td>248</td>\n",
       "      <td>2019-08-07</td>\n",
       "      <td>09:16:20</td>\n",
       "      <td>9</td>\n",
       "    </tr>\n",
       "  </tbody>\n",
       "</table>\n",
       "<p>241298 rows × 7 columns</p>\n",
       "</div>"
      ],
      "text/plain": [
       "                     event_name              user_id     event_timestamp  \\\n",
       "197263         MainScreenAppear     6888746892508752 2019-08-06 14:06:34   \n",
       "209196         MainScreenAppear     6909561520679493 2019-08-06 18:52:54   \n",
       "209199  PaymentScreenSuccessful     6909561520679493 2019-08-06 18:52:58   \n",
       "209200         CartScreenAppear     6909561520679493 2019-08-06 18:52:58   \n",
       "209201         MainScreenAppear     6909561520679493 2019-08-06 18:52:58   \n",
       "...                         ...                  ...                 ...   \n",
       "221366         MainScreenAppear  9222603179720523844 2019-08-07 09:13:37   \n",
       "221404         MainScreenAppear  9222603179720523844 2019-08-07 09:14:53   \n",
       "221406         MainScreenAppear  9222603179720523844 2019-08-07 09:15:01   \n",
       "221412         MainScreenAppear  9222603179720523844 2019-08-07 09:15:13   \n",
       "221438         MainScreenAppear  9222603179720523844 2019-08-07 09:16:20   \n",
       "\n",
       "        exp_id  event_date event_time  event_hour  \n",
       "197263     246  2019-08-06   14:06:34          14  \n",
       "209196     247  2019-08-06   18:52:54          18  \n",
       "209199     247  2019-08-06   18:52:58          18  \n",
       "209200     247  2019-08-06   18:52:58          18  \n",
       "209201     247  2019-08-06   18:52:58          18  \n",
       "...        ...         ...        ...         ...  \n",
       "221366     248  2019-08-07   09:13:37           9  \n",
       "221404     248  2019-08-07   09:14:53           9  \n",
       "221406     248  2019-08-07   09:15:01           9  \n",
       "221412     248  2019-08-07   09:15:13           9  \n",
       "221438     248  2019-08-07   09:16:20           9  \n",
       "\n",
       "[241298 rows x 7 columns]"
      ]
     },
     "execution_count": 179,
     "metadata": {},
     "output_type": "execute_result"
    }
   ],
   "source": [
    "# Sort data by user and timestamp\n",
    "events_df_complete_sorted = events_df_complete.sort_values(by=['user_id', 'event_timestamp'])\n",
    "\n",
    "events_df_complete_sorted"
   ]
  },
  {
   "cell_type": "code",
   "execution_count": 180,
   "metadata": {},
   "outputs": [
    {
     "data": {
      "text/plain": [
       "user_id\n",
       "8904648979022564504    [MainScreenAppear, OffersScreenAppear, MainScr...\n",
       "3157721013859307056    [MainScreenAppear, CartScreenAppear, PaymentSc...\n",
       "7005791568193762129    [Tutorial, MainScreenAppear, OffersScreenAppea...\n",
       "6355882190390085010    [MainScreenAppear, MainScreenAppear, MainScree...\n",
       "3665255445988174819    [MainScreenAppear, MainScreenAppear, MainScree...\n",
       "3569490596734872842    [MainScreenAppear, OffersScreenAppear, OffersS...\n",
       "5609174282068681071    [MainScreenAppear, OffersScreenAppear, Payment...\n",
       "8162308900885925073    [MainScreenAppear, MainScreenAppear, MainScree...\n",
       "424826562612017366     [MainScreenAppear, OffersScreenAppear, OffersS...\n",
       "378761015309962378     [Tutorial, MainScreenAppear, OffersScreenAppea...\n",
       "Name: event_name, dtype: object"
      ]
     },
     "execution_count": 180,
     "metadata": {},
     "output_type": "execute_result"
    }
   ],
   "source": [
    "# Get the sequence of events per user\n",
    "user_event_sequences = events_df_complete_sorted.groupby('user_id')['event_name'].apply(lambda x: list(x))\n",
    "user_event_sequences.sample(10)"
   ]
  },
  {
   "cell_type": "markdown",
   "metadata": {},
   "source": [
    "The main order of events must be in a sequence as MainScreenAppear, OffersScreenAppear, CartScreenAppear, PaymentScreenSuccessful. Tutorial could occur at various points, not necessarily in sequence with the other events\n",
    "\n",
    "We can conclude after the analysis that the events doesn't occur in a single sequence for all users. As some users starts with the mainscreen events moving to the cartscreen event then paymentscreen; while other users starts from the tutorial and move to the offerscreen, and others start with offersscreen and continue in the same event then move to mainscreen event"
   ]
  },
  {
   "cell_type": "markdown",
   "metadata": {},
   "source": [
    "### Use the event funnel to find the proportion of users who move from one stage to the next (for example, for event sequence A → B → C, calculate the ratio of users in step B to the number of users in step A, and the ratio of users in step C to the number in step B)."
   ]
  },
  {
   "cell_type": "code",
   "execution_count": 181,
   "metadata": {},
   "outputs": [
    {
     "name": "stdout",
     "output_type": "stream",
     "text": [
      "Users who performed MainScreenAppear event:  7419\n"
     ]
    }
   ],
   "source": [
    "# Number of users who held their first event\n",
    "users_event_A = events_df_complete_sorted[events_df_complete_sorted['event_name'] == 'MainScreenAppear']['user_id'].nunique()\n",
    "print('Users who performed MainScreenAppear event: ', users_event_A)"
   ]
  },
  {
   "cell_type": "code",
   "execution_count": 182,
   "metadata": {},
   "outputs": [
    {
     "name": "stdout",
     "output_type": "stream",
     "text": [
      "Users who performed OffersScreenAppear event:  4593\n",
      "Conversion rate from MainScreenAppear to OffersScreenAppear: 61.91%\n"
     ]
    }
   ],
   "source": [
    "# Number of users who performed the second event\n",
    "users_event_B = events_df_complete_sorted[events_df_complete_sorted['event_name'] == 'OffersScreenAppear']['user_id'].nunique()\n",
    "conversion_A_to_B = users_event_B / users_event_A\n",
    "\n",
    "print('Users who performed OffersScreenAppear event: ', users_event_B)\n",
    "print(f'Conversion rate from MainScreenAppear to OffersScreenAppear: {conversion_A_to_B:.2%}')"
   ]
  },
  {
   "cell_type": "code",
   "execution_count": 183,
   "metadata": {},
   "outputs": [
    {
     "name": "stdout",
     "output_type": "stream",
     "text": [
      "Users who performed CartScreenAppear event:  3734\n",
      "Conversion rate from OffersScreenAppear to CartScreenAppear:  81.30%\n"
     ]
    }
   ],
   "source": [
    "# Number of users who held the third event\n",
    "users_event_C = events_df_complete_sorted[events_df_complete_sorted['event_name'] == 'CartScreenAppear']['user_id'].nunique()\n",
    "conversion_B_to_C = users_event_C / users_event_B\n",
    "\n",
    "print('Users who performed CartScreenAppear event: ', users_event_C)\n",
    "print(f'Conversion rate from OffersScreenAppear to CartScreenAppear:  {conversion_B_to_C:.2%}')"
   ]
  },
  {
   "cell_type": "code",
   "execution_count": 184,
   "metadata": {},
   "outputs": [
    {
     "name": "stdout",
     "output_type": "stream",
     "text": [
      "Users who performed event PaymentScreenSuccessful:  3539\n",
      "Conversion rate from CartScreenAppear to PaymentScreenSuccessful: 94.78%\n"
     ]
    }
   ],
   "source": [
    "# Number of users who held the fourth event\n",
    "users_event_D = events_df_complete_sorted[events_df_complete_sorted['event_name'] == 'PaymentScreenSuccessful']['user_id'].nunique()\n",
    "conversion_C_to_D = users_event_D / users_event_C\n",
    "\n",
    "print('Users who performed event PaymentScreenSuccessful: ', users_event_D)\n",
    "print(f'Conversion rate from CartScreenAppear to PaymentScreenSuccessful: {conversion_C_to_D:.2%}')"
   ]
  },
  {
   "cell_type": "markdown",
   "metadata": {},
   "source": [
    "### In which phase do you lose the most users?"
   ]
  },
  {
   "cell_type": "code",
   "execution_count": 185,
   "metadata": {},
   "outputs": [
    {
     "name": "stdout",
     "output_type": "stream",
     "text": [
      "Loss of users from MainScreenAppear to OffersScreenAppear: 38.09%\n",
      "Loss of users from OffersScreenAppear to CartScreenAppear: 18.70%\n",
      "Loss of CartScreenAppear users to PaymentScreenSuccessful: 5.22%\n"
     ]
    }
   ],
   "source": [
    "# Calculate user losses in each transition\n",
    "drop_A_to_B = 1 - conversion_A_to_B\n",
    "drop_B_to_C = 1 - conversion_B_to_C\n",
    "drop_C_to_D = 1 - conversion_C_to_D\n",
    "\n",
    "print(f'Loss of users from MainScreenAppear to OffersScreenAppear: {drop_A_to_B:.2%}')\n",
    "print(f'Loss of users from OffersScreenAppear to CartScreenAppear: {drop_B_to_C:.2%}')\n",
    "print(f'Loss of CartScreenAppear users to PaymentScreenSuccessful: {drop_C_to_D:.2%}')"
   ]
  },
  {
   "cell_type": "markdown",
   "metadata": {},
   "source": [
    "### What is the share of users who go the entire way, from the first event to the payment?"
   ]
  },
  {
   "cell_type": "code",
   "execution_count": 186,
   "metadata": {},
   "outputs": [
    {
     "name": "stdout",
     "output_type": "stream",
     "text": [
      "Share of users completing the funnel: 47.70%\n"
     ]
    }
   ],
   "source": [
    "funnel_completion_rate = users_event_D / users_event_A\n",
    "print(f'Share of users completing the funnel: {funnel_completion_rate:.2%}')"
   ]
  },
  {
   "cell_type": "markdown",
   "metadata": {},
   "source": [
    "The sales funnel analysis reveals that while 47.7% of users complete the purchase process, there is a significant drop-off of 38.09% between the main screen and the offers screen. However, users who reach the offers screen show strong intent, with 81.3% moving to the cart and 94.78% completing their purchase. Improving the initial engagement on the main screen could enhance overall conversion rates, while maintaining the streamlined process from cart to payment will help sustain high completion rates."
   ]
  },
  {
   "cell_type": "markdown",
   "metadata": {},
   "source": [
    "## Study the results of the experiment"
   ]
  },
  {
   "cell_type": "markdown",
   "metadata": {},
   "source": [
    "### How many users are in each group?"
   ]
  },
  {
   "cell_type": "code",
   "execution_count": 203,
   "metadata": {},
   "outputs": [
    {
     "data": {
      "text/plain": [
       "exp_id\n",
       "248    2537\n",
       "247    2513\n",
       "246    2484\n",
       "Name: user_id, dtype: int64"
      ]
     },
     "execution_count": 203,
     "metadata": {},
     "output_type": "execute_result"
    }
   ],
   "source": [
    "# Count the number of users at each group\n",
    "users_per_group = events_df_complete.groupby('exp_id')['user_id'].nunique().sort_values(ascending=False)\n",
    "users_per_group "
   ]
  },
  {
   "cell_type": "markdown",
   "metadata": {},
   "source": [
    "We can see that test group 248 has more users 2537 than control groups 247 (2513 users) and 246 (2484 users)"
   ]
  },
  {
   "cell_type": "markdown",
   "metadata": {},
   "source": [
    "### We have two control groups in A/A testing, in which we check our mechanisms and calculations. See if there is a statistically significant difference between the 246 and 247 samplings."
   ]
  },
  {
   "cell_type": "code",
   "execution_count": 204,
   "metadata": {},
   "outputs": [
    {
     "name": "stdout",
     "output_type": "stream",
     "text": [
      "Percentage of users of group 246:  32.97053358109901\n",
      "Percentage of users of group 247:  33.35545526944518\n",
      "Difference of users between two control groups:  0.3849216883461679 %\n"
     ]
    }
   ],
   "source": [
    "# Calculate the percentage of users in each control group with respect to the total users\n",
    "users_percentage_246 = users_per_group[246]/users_per_group.sum() *100\n",
    "print('Percentage of users of group 246: ', users_percentage_246)\n",
    "\n",
    "users_percentage_247 = users_per_group[247]/users_per_group.sum() *100\n",
    "print('Percentage of users of group 247: ', users_percentage_247)\n",
    "\n",
    "print('Difference of users between two control groups: ', users_percentage_247 - users_percentage_246,'%')"
   ]
  },
  {
   "cell_type": "markdown",
   "metadata": {},
   "source": [
    "The difference between users of group 246 and 247 is 0.38% less than 1%.\n",
    "Which means that there is no statistically significant difference between the 246 and 247 samplings."
   ]
  },
  {
   "cell_type": "markdown",
   "metadata": {},
   "source": [
    "### Select the most popular event. In each of the control groups, find the number of users who performed this action. Find their ratio. Check if the difference between the groups is statistically significant. Repeat the procedure for all other events (it will save time if you create a special function for this test). Can you confirm that the groups were divided correctly?"
   ]
  },
  {
   "cell_type": "code",
   "execution_count": 205,
   "metadata": {},
   "outputs": [
    {
     "ename": "ValueError",
     "evalue": "attempt to get argmax of an empty sequence",
     "output_type": "error",
     "traceback": [
      "\u001b[0;31m---------------------------------------------------------------------------\u001b[0m",
      "\u001b[0;31mValueError\u001b[0m                                Traceback (most recent call last)",
      "Cell \u001b[0;32mIn[205], line 3\u001b[0m\n\u001b[1;32m      1\u001b[0m \u001b[38;5;66;03m# Count the number of users for each event in each group\u001b[39;00m\n\u001b[1;32m      2\u001b[0m event_counts \u001b[38;5;241m=\u001b[39m events_df_complete_sorted[events_df_complete_sorted[\u001b[38;5;124m'\u001b[39m\u001b[38;5;124mexp_id\u001b[39m\u001b[38;5;124m'\u001b[39m]\u001b[38;5;241m.\u001b[39misin([\u001b[38;5;241m246\u001b[39m, \u001b[38;5;241m247\u001b[39m])]\u001b[38;5;241m.\u001b[39mgroupby([\u001b[38;5;124m'\u001b[39m\u001b[38;5;124mexp_id\u001b[39m\u001b[38;5;124m'\u001b[39m, \u001b[38;5;124m'\u001b[39m\u001b[38;5;124mevent_name\u001b[39m\u001b[38;5;124m'\u001b[39m])[\u001b[38;5;124m'\u001b[39m\u001b[38;5;124muser_id\u001b[39m\u001b[38;5;124m'\u001b[39m]\u001b[38;5;241m.\u001b[39mnunique()\u001b[38;5;241m.\u001b[39munstack()\n\u001b[0;32m----> 3\u001b[0m most_popular_event \u001b[38;5;241m=\u001b[39m \u001b[43mevent_counts\u001b[49m\u001b[38;5;241;43m.\u001b[39;49m\u001b[43msum\u001b[49m\u001b[43m(\u001b[49m\u001b[43m)\u001b[49m\u001b[38;5;241;43m.\u001b[39;49m\u001b[43midxmax\u001b[49m\u001b[43m(\u001b[49m\u001b[43m)\u001b[49m\n\u001b[1;32m      4\u001b[0m \u001b[38;5;28mprint\u001b[39m(\u001b[38;5;124mf\u001b[39m\u001b[38;5;124m'\u001b[39m\u001b[38;5;124mThe most popular event is: \u001b[39m\u001b[38;5;132;01m{\u001b[39;00mmost_popular_event\u001b[38;5;132;01m}\u001b[39;00m\u001b[38;5;124m'\u001b[39m)\n\u001b[1;32m      6\u001b[0m \u001b[38;5;66;03m# Count the number of unique users who performed the most popular event in each control group\u001b[39;00m\n",
      "File \u001b[0;32m/opt/conda/envs/python3/lib/python3.9/site-packages/pandas/core/series.py:2174\u001b[0m, in \u001b[0;36mSeries.idxmax\u001b[0;34m(self, axis, skipna, *args, **kwargs)\u001b[0m\n\u001b[1;32m   2109\u001b[0m \u001b[38;5;250m\u001b[39m\u001b[38;5;124;03m\"\"\"\u001b[39;00m\n\u001b[1;32m   2110\u001b[0m \u001b[38;5;124;03mReturn the row label of the maximum value.\u001b[39;00m\n\u001b[1;32m   2111\u001b[0m \n\u001b[0;32m   (...)\u001b[0m\n\u001b[1;32m   2171\u001b[0m \u001b[38;5;124;03mnan\u001b[39;00m\n\u001b[1;32m   2172\u001b[0m \u001b[38;5;124;03m\"\"\"\u001b[39;00m\n\u001b[1;32m   2173\u001b[0m skipna \u001b[38;5;241m=\u001b[39m nv\u001b[38;5;241m.\u001b[39mvalidate_argmax_with_skipna(skipna, args, kwargs)\n\u001b[0;32m-> 2174\u001b[0m i \u001b[38;5;241m=\u001b[39m \u001b[43mnanops\u001b[49m\u001b[38;5;241;43m.\u001b[39;49m\u001b[43mnanargmax\u001b[49m\u001b[43m(\u001b[49m\u001b[38;5;28;43mself\u001b[39;49m\u001b[38;5;241;43m.\u001b[39;49m\u001b[43m_values\u001b[49m\u001b[43m,\u001b[49m\u001b[43m \u001b[49m\u001b[43mskipna\u001b[49m\u001b[38;5;241;43m=\u001b[39;49m\u001b[43mskipna\u001b[49m\u001b[43m)\u001b[49m\n\u001b[1;32m   2175\u001b[0m \u001b[38;5;28;01mif\u001b[39;00m i \u001b[38;5;241m==\u001b[39m \u001b[38;5;241m-\u001b[39m\u001b[38;5;241m1\u001b[39m:\n\u001b[1;32m   2176\u001b[0m     \u001b[38;5;28;01mreturn\u001b[39;00m np\u001b[38;5;241m.\u001b[39mnan\n",
      "File \u001b[0;32m/opt/conda/envs/python3/lib/python3.9/site-packages/pandas/core/nanops.py:73\u001b[0m, in \u001b[0;36mdisallow.__call__.<locals>._f\u001b[0;34m(*args, **kwargs)\u001b[0m\n\u001b[1;32m     71\u001b[0m \u001b[38;5;28;01mtry\u001b[39;00m:\n\u001b[1;32m     72\u001b[0m     \u001b[38;5;28;01mwith\u001b[39;00m np\u001b[38;5;241m.\u001b[39merrstate(invalid\u001b[38;5;241m=\u001b[39m\u001b[38;5;124m\"\u001b[39m\u001b[38;5;124mignore\u001b[39m\u001b[38;5;124m\"\u001b[39m):\n\u001b[0;32m---> 73\u001b[0m         \u001b[38;5;28;01mreturn\u001b[39;00m \u001b[43mf\u001b[49m\u001b[43m(\u001b[49m\u001b[38;5;241;43m*\u001b[39;49m\u001b[43margs\u001b[49m\u001b[43m,\u001b[49m\u001b[43m \u001b[49m\u001b[38;5;241;43m*\u001b[39;49m\u001b[38;5;241;43m*\u001b[39;49m\u001b[43mkwargs\u001b[49m\u001b[43m)\u001b[49m\n\u001b[1;32m     74\u001b[0m \u001b[38;5;28;01mexcept\u001b[39;00m \u001b[38;5;167;01mValueError\u001b[39;00m \u001b[38;5;28;01mas\u001b[39;00m e:\n\u001b[1;32m     75\u001b[0m     \u001b[38;5;66;03m# we want to transform an object array\u001b[39;00m\n\u001b[1;32m     76\u001b[0m     \u001b[38;5;66;03m# ValueError message to the more typical TypeError\u001b[39;00m\n\u001b[1;32m     77\u001b[0m     \u001b[38;5;66;03m# e.g. this is normally a disallowed function on\u001b[39;00m\n\u001b[1;32m     78\u001b[0m     \u001b[38;5;66;03m# object arrays that contain strings\u001b[39;00m\n\u001b[1;32m     79\u001b[0m     \u001b[38;5;28;01mif\u001b[39;00m is_object_dtype(args[\u001b[38;5;241m0\u001b[39m]):\n",
      "File \u001b[0;32m/opt/conda/envs/python3/lib/python3.9/site-packages/pandas/core/nanops.py:1029\u001b[0m, in \u001b[0;36mnanargmax\u001b[0;34m(values, axis, skipna, mask)\u001b[0m\n\u001b[1;32m    997\u001b[0m \u001b[38;5;250m\u001b[39m\u001b[38;5;124;03m\"\"\"\u001b[39;00m\n\u001b[1;32m    998\u001b[0m \u001b[38;5;124;03mParameters\u001b[39;00m\n\u001b[1;32m    999\u001b[0m \u001b[38;5;124;03m----------\u001b[39;00m\n\u001b[0;32m   (...)\u001b[0m\n\u001b[1;32m   1026\u001b[0m \u001b[38;5;124;03marray([2, 2, 1, 1], dtype=int64)\u001b[39;00m\n\u001b[1;32m   1027\u001b[0m \u001b[38;5;124;03m\"\"\"\u001b[39;00m\n\u001b[1;32m   1028\u001b[0m values, mask, _, _, _ \u001b[38;5;241m=\u001b[39m _get_values(values, \u001b[38;5;28;01mTrue\u001b[39;00m, fill_value_typ\u001b[38;5;241m=\u001b[39m\u001b[38;5;124m\"\u001b[39m\u001b[38;5;124m-inf\u001b[39m\u001b[38;5;124m\"\u001b[39m, mask\u001b[38;5;241m=\u001b[39mmask)\n\u001b[0;32m-> 1029\u001b[0m result \u001b[38;5;241m=\u001b[39m \u001b[43mvalues\u001b[49m\u001b[38;5;241;43m.\u001b[39;49m\u001b[43margmax\u001b[49m\u001b[43m(\u001b[49m\u001b[43maxis\u001b[49m\u001b[43m)\u001b[49m\n\u001b[1;32m   1030\u001b[0m result \u001b[38;5;241m=\u001b[39m _maybe_arg_null_out(result, axis, mask, skipna)\n\u001b[1;32m   1031\u001b[0m \u001b[38;5;28;01mreturn\u001b[39;00m result\n",
      "\u001b[0;31mValueError\u001b[0m: attempt to get argmax of an empty sequence"
     ]
    }
   ],
   "source": [
    "# Count the number of users for each event in each group\n",
    "event_counts = events_df_complete_sorted[events_df_complete_sorted['exp_id'].isin([246, 247])].groupby(['exp_id', 'event_name'])['user_id'].nunique().unstack()\n",
    "most_popular_event = event_counts.sum().idxmax()\n",
    "print(f'The most popular event is: {most_popular_event}')\n",
    "\n",
    "# Count the number of unique users who performed the most popular event in each control group\n",
    "group_246_count = events_df_complete_sorted[(events_df_complete_sorted['exp_id'] == 246) & (events_df_complete_sorted['event_name'] == most_popular_event)]['user_id'].nunique()\n",
    "group_247_count = events_df_complete_sorted[(events_df_complete_sorted['exp_id'] == 247) & (events_df_complete_sorted['event_name'] == most_popular_event)]['user_id'].nunique()\n",
    "\n",
    "# Calculate the proportions\n",
    "proportion_246 = group_246_count / users_per_group[246]\n",
    "proportion_247 = group_247_count / users_per_group[247]\n",
    "\n",
    "print(f'Proportion of users in group 246 who performed {most_popular_event}: {proportion_246:.4f}')\n",
    "print(f'Proportion of users in group 247 who performed {most_popular_event}: {proportion_247:.4f}')"
   ]
  },
  {
   "cell_type": "code",
   "execution_count": 206,
   "metadata": {
    "scrolled": true
   },
   "outputs": [
    {
     "name": "stdout",
     "output_type": "stream",
     "text": [
      "P-value between groups 246 and 247 for event MainScreenAppear: 0.8115\n",
      "Cannot reject the Null Hypothesis\n"
     ]
    }
   ],
   "source": [
    "#Let's use Fisher's exact test to see if the difference between the proportions of the control groups is statistically significant.\n",
    "# Create the contingency table\n",
    "contingency_table = [[group_246_count, users_per_group[246] - group_246_count],\n",
    "                    [group_247_count, users_per_group[247] - group_247_count]\n",
    "                        ]\n",
    "\n",
    "alpha = 0.05\n",
    "# Calculate the p-value using Fisher's exact test\n",
    "_, p_value = fisher_exact(contingency_table)\n",
    "\n",
    "print(f'P-value between groups 246 and 247 for event {most_popular_event}: {p_value:.4f}')\n",
    "\n",
    "if (p_value < alpha): # compare p-value with the significance level alpha\n",
    "    print(\"Reject Null Hypothesis\")\n",
    "else:\n",
    "    print(\"Cannot reject the Null Hypothesis\")"
   ]
  },
  {
   "cell_type": "code",
   "execution_count": 207,
   "metadata": {},
   "outputs": [
    {
     "name": "stdout",
     "output_type": "stream",
     "text": [
      "Event: MainScreenAppear\n",
      " Proportion in group 246: 0.0000\n",
      " Proportion in group 247: 0.0000\n",
      "  P-value: 1.0000\n",
      "Cannot reject the Null Hypothesis\n",
      "\n",
      "Event: PaymentScreenSuccessful\n",
      " Proportion in group 246: 0.0000\n",
      " Proportion in group 247: 0.0000\n",
      "  P-value: 1.0000\n",
      "Cannot reject the Null Hypothesis\n",
      "\n",
      "Event: CartScreenAppear\n",
      " Proportion in group 246: 0.0000\n",
      " Proportion in group 247: 0.0000\n",
      "  P-value: 1.0000\n",
      "Cannot reject the Null Hypothesis\n",
      "\n",
      "Event: OffersScreenAppear\n",
      " Proportion in group 246: 0.0000\n",
      " Proportion in group 247: 0.0000\n",
      "  P-value: 1.0000\n",
      "Cannot reject the Null Hypothesis\n",
      "\n",
      "Event: Tutorial\n",
      " Proportion in group 246: 0.0000\n",
      " Proportion in group 247: 0.0000\n",
      "  P-value: 1.0000\n",
      "Cannot reject the Null Hypothesis\n",
      "\n"
     ]
    }
   ],
   "source": [
    "#Create a function to repeat the above process for all events.\n",
    "\n",
    "def compare_events(data, event_name, group1, group2):\n",
    "    # Count the number of users who held the event in each group\n",
    "    group1_count = data[(data['exp_id'] == group1) & (data['event_name'] == event_name)]['user_id'].nunique()\n",
    "    group2_count = data[(data['exp_id'] == group2) & (data['event_name'] == event_name)]['user_id'].nunique()\n",
    "    \n",
    "     # Total number of users in each group\n",
    "    group1_total = users_per_group[group1]\n",
    "    group2_total = users_per_group[group2]\n",
    "    \n",
    "   \n",
    "    # Calculate the proportions\n",
    "    proportion1 = group1_count / group1_total\n",
    "    proportion2 = group2_count / group2_total\n",
    "\n",
    "    # Fisher's exact test\n",
    "    contingency_table = [\n",
    "        [group1_count, group1_total - group1_count],\n",
    "        [group2_count, group2_total - group2_count]\n",
    "    ]\n",
    "    _, p_value = fisher_exact(contingency_table)\n",
    "    \n",
    "    return proportion1, proportion2, p_value\n",
    "\n",
    "# Apply the function to all events\n",
    "events = events_df_complete_sorted['event_name'].unique()\n",
    "results = {}\n",
    "\n",
    "for event in events:\n",
    "    proportion246, proportion247, p_value = compare_events(events_df_complete_sorted, event, 246, 247)\n",
    "    results[event] = {\n",
    "        'Proportion_246': proportion246,\n",
    "        'Proportion_247': proportion247,\n",
    "        'P-value': p_value\n",
    "    }\n",
    "\n",
    "alpha = 0.05\n",
    "# Display the results\n",
    "for event, result in results.items():\n",
    "    print(f\"Event: {event}\")\n",
    "    print(f\" Proportion in group 246: {result['Proportion_246']:.4f}\")\n",
    "    print(f\" Proportion in group 247: {result['Proportion_247']:.4f}\")\n",
    "    print(f\"  P-value: {result['P-value']:.4f}\")\n",
    "\n",
    "    if (p_value < alpha): # compare p-value with the significance level alpha\n",
    "        print(\"Reject Null Hypothesis\")\n",
    "    else:\n",
    "        print(\"Cannot reject the Null Hypothesis\")\n",
    "    print()"
   ]
  },
  {
   "cell_type": "markdown",
   "metadata": {},
   "source": [
    "After testing and getting the p_value we have concluded that Null Hypothesis cannot be rejected.\n",
    "\n",
    "This means that there is no statistically significant difference between the 246 and 247 samplings with respect to the most popuar events MainScreenAppear and also all other events, confriming that the groups were divided correctly."
   ]
  },
  {
   "cell_type": "markdown",
   "metadata": {},
   "source": [
    "### Do the same thing for the group with changed fonts. Compare the results with those of each of the control groups for each event separately. Compare the results with the combined results for the control groups. What conclusions can you draw from the experiment?"
   ]
  },
  {
   "cell_type": "code",
   "execution_count": 208,
   "metadata": {},
   "outputs": [
    {
     "name": "stdout",
     "output_type": "stream",
     "text": [
      "Comparison of group 248 with group 246:\n",
      "----------------------------------------\n",
      "Event: MainScreenAppear\n",
      " Proportion in group 248: 0.9827\n",
      " Proportion in group 246: 0.0000\n",
      "  P-value: 0.0000\n",
      "Reject Null Hypothesis\n",
      "\n",
      "Event: PaymentScreenSuccessful\n",
      " Proportion in group 248: 0.4655\n",
      " Proportion in group 246: 0.0000\n",
      "  P-value: 0.0000\n",
      "Reject Null Hypothesis\n",
      "\n",
      "Event: CartScreenAppear\n",
      " Proportion in group 248: 0.4848\n",
      " Proportion in group 246: 0.0000\n",
      "  P-value: 0.0000\n",
      "Reject Null Hypothesis\n",
      "\n",
      "Event: OffersScreenAppear\n",
      " Proportion in group 248: 0.6035\n",
      " Proportion in group 246: 0.0000\n",
      "  P-value: 0.0000\n",
      "Reject Null Hypothesis\n",
      "\n",
      "Event: Tutorial\n",
      " Proportion in group 248: 0.1100\n",
      " Proportion in group 246: 0.0000\n",
      "  P-value: 0.0000\n",
      "Reject Null Hypothesis\n",
      "\n",
      "........................................\n",
      "Comparison of group 248 with group 247:\n",
      "----------------------------------------\n",
      "Event: MainScreenAppear\n",
      " Proportion in group 248: 0.9827\n",
      " Proportion in group 247: 0.0000\n",
      "  P-value: 0.0000\n",
      "Reject Null Hypothesis\n",
      "\n",
      "Event: PaymentScreenSuccessful\n",
      " Proportion in group 248: 0.4655\n",
      " Proportion in group 247: 0.0000\n",
      "  P-value: 0.0000\n",
      "Reject Null Hypothesis\n",
      "\n",
      "Event: CartScreenAppear\n",
      " Proportion in group 248: 0.4848\n",
      " Proportion in group 247: 0.0000\n",
      "  P-value: 0.0000\n",
      "Reject Null Hypothesis\n",
      "\n",
      "Event: OffersScreenAppear\n",
      " Proportion in group 248: 0.6035\n",
      " Proportion in group 247: 0.0000\n",
      "  P-value: 0.0000\n",
      "Reject Null Hypothesis\n",
      "\n",
      "Event: Tutorial\n",
      " Proportion in group 248: 0.1100\n",
      " Proportion in group 247: 0.0000\n",
      "  P-value: 0.0000\n",
      "Reject Null Hypothesis\n",
      "\n"
     ]
    }
   ],
   "source": [
    "# Compare group 248 with group 246\n",
    "results_248_vs_246 = {}\n",
    "\n",
    "for event in events:\n",
    "    proportion248, proportion246, p_value = compare_events(events_df_complete_sorted, event, 248, 246)\n",
    "    results_248_vs_246[event] = {\n",
    "        'Proportion_248': proportion248,\n",
    "        'Proportion_246': proportion246,\n",
    "        'P-value': p_value\n",
    "    }\n",
    "\n",
    "# Compare group 248 with group 247\n",
    "results_248_vs_247 = {}\n",
    "\n",
    "for event in events:\n",
    "    proportion248, proportion247, p_value = compare_events(events_df_complete_sorted, event, 248, 247)\n",
    "    results_248_vs_247[event] = {\n",
    "        'Proportion_248': proportion248,\n",
    "        'Proportion_247': proportion247,\n",
    "        'P-value': p_value\n",
    "    }\n",
    "    \n",
    "# Display the results for group 248 vs. 246\n",
    "print(\"Comparison of group 248 with group 246:\")\n",
    "print('----------------------------------------')\n",
    "\n",
    "for event, result in results_248_vs_246.items():\n",
    "    print(f\"Event: {event}\")\n",
    "    print(f\" Proportion in group 248: {result['Proportion_248']:.4f}\")\n",
    "    print(f\" Proportion in group 246: {result['Proportion_246']:.4f}\")\n",
    "    print(f\"  P-value: {result['P-value']:.4f}\")\n",
    "    \n",
    "    if result['P-value'] < alpha:\n",
    "        print(\"Reject Null Hypothesis\")\n",
    "    else:\n",
    "        print(\"Cannot reject the Null Hypothesis\")\n",
    "    print()\n",
    "\n",
    "# Display the results for group 248 vs. 247\n",
    "print('........................................')\n",
    "print(\"Comparison of group 248 with group 247:\")\n",
    "print('----------------------------------------')\n",
    "\n",
    "for event, result in results_248_vs_247.items():\n",
    "    print(f\"Event: {event}\")\n",
    "    print(f\" Proportion in group 248: {result['Proportion_248']:.4f}\")\n",
    "    print(f\" Proportion in group 247: {result['Proportion_247']:.4f}\")\n",
    "    print(f\"  P-value: {result['P-value']:.4f}\")\n",
    "\n",
    "    if result['P-value'] < alpha:\n",
    "        print(\"Reject Null Hypothesis\")\n",
    "    else:\n",
    "        print(\"Cannot reject the Null Hypothesis\")\n",
    "    print()"
   ]
  },
  {
   "cell_type": "markdown",
   "metadata": {},
   "source": [
    "After testing and getting the p_value we have concluded that Null Hypothesis cannot be rejected.\n",
    "\n",
    "This means that there is no statistically significant difference between the Group 248 with changed fonts and each of the Control Group 246 & 247 (by testing all events), confriming that the groups were divided correctly."
   ]
  },
  {
   "cell_type": "code",
   "execution_count": 213,
   "metadata": {},
   "outputs": [
    {
     "name": "stdout",
     "output_type": "stream",
     "text": [
      "2467    156572\n",
      "248      84726\n",
      "Name: exp_id, dtype: int64\n",
      "\n",
      "Comparison of group 248 with combined control group:\n",
      "----------------------------------------\n",
      "Event: MainScreenAppear\n",
      " Proportion in group 248: 0.9827\n",
      " Proportion in combined control: 0.9858\n",
      "  P-value: 0.3201\n",
      "Cannot reject the Null Hypothesis\n",
      "\n",
      "Event: PaymentScreenSuccessful\n",
      " Proportion in group 248: 0.4655\n",
      " Proportion in combined control: 0.4719\n",
      "  P-value: 0.6081\n",
      "Cannot reject the Null Hypothesis\n",
      "\n",
      "Event: CartScreenAppear\n",
      " Proportion in group 248: 0.4848\n",
      " Proportion in combined control: 0.5011\n",
      "  P-value: 0.1880\n",
      "Cannot reject the Null Hypothesis\n",
      "\n",
      "Event: OffersScreenAppear\n",
      " Proportion in group 248: 0.6035\n",
      " Proportion in combined control: 0.6128\n",
      "  P-value: 0.4387\n",
      "Cannot reject the Null Hypothesis\n",
      "\n",
      "Event: Tutorial\n",
      " Proportion in group 248: 0.1100\n",
      " Proportion in combined control: 0.1123\n",
      "  P-value: 0.7864\n",
      "Cannot reject the Null Hypothesis\n",
      "\n"
     ]
    }
   ],
   "source": [
    "# Combine users for groups 246 and 247 for each event\n",
    "\n",
    "# Add a new entry for the combined control group (246 and 247)\n",
    "users_per_group[2467] = users_per_group[246] + users_per_group[247]\n",
    "\n",
    "# Create a copy of the original DataFrame\n",
    "events_df_complete_copy = events_df_complete_sorted.copy()\n",
    "\n",
    "# Update the exp_id values for 246 and 247 in the copy\n",
    "events_df_complete_copy.loc[events_df_complete_copy['exp_id'].isin([246, 247]), 'exp_id'] = 2467\n",
    "\n",
    "# Verify the changes\n",
    "print(events_df_complete_sorted['exp_id'].value_counts())\n",
    "print()\n",
    "\n",
    "# Compare group 248 with the combined control group\n",
    "results_248_vs_combined = {}\n",
    "for event in events:\n",
    "    proportion248, proportion2467, p_value = compare_events(events_df_complete_copy, event, 248, 2467)\n",
    "    results_248_vs_combined[event] = {\n",
    "        'Proportion_248': proportion248,\n",
    "        'Proportion_Control_Combined': proportion2467,\n",
    "        'P-value': p_value\n",
    "    }\n",
    "\n",
    "# Display the results for group 248 vs. combined control\n",
    "print(\"Comparison of group 248 with combined control group:\")\n",
    "print('----------------------------------------')\n",
    "\n",
    "for event, result in results_248_vs_combined.items():\n",
    "    print(f\"Event: {event}\")\n",
    "    print(f\" Proportion in group 248: {result['Proportion_248']:.4f}\")\n",
    "    print(f\" Proportion in combined control: {result['Proportion_Control_Combined']:.4f}\")\n",
    "    print(f\"  P-value: {result['P-value']:.4f}\")\n",
    "\n",
    "    if result['P-value'] < alpha:\n",
    "        print(\"Reject Null Hypothesis\")\n",
    "    else:\n",
    "        print(\"Cannot reject the Null Hypothesis\")\n",
    "    print()"
   ]
  },
  {
   "cell_type": "markdown",
   "metadata": {},
   "source": [
    "By combining both groups and applying the tests, we can conclude from the p_values resulted that Null Hypothesis cannot be rejected.\n",
    "\n",
    "This means that there is no statistically significant difference between Group 248 with changed fonts and boht Control Group 246 & 247 combined (by testing all events), confirming that the division was performed correctly."
   ]
  },
  {
   "cell_type": "markdown",
   "metadata": {},
   "source": [
    "### What level of significance have you set to test the statistical hypotheses mentioned above? Calculate how many statistical hypothesis tests you have performed. With a statistical significance level of 0.1, one out of every 10 results may be false. What should be the level of significance? If you want to change it, perform the previous steps again and check your conclusions."
   ]
  },
  {
   "cell_type": "markdown",
   "metadata": {},
   "source": [
    "For each event, 3 hypothesis tests were performed: 248 vs 246, 248 vs 247, 248 vs combined control.\n",
    "We have 5 main events MainScreenAppear, OffersScreenAppear, CartScreenAppear, PaymentScreenSuccessful, Tutorial\n",
    "\n",
    "Therefore, with 5 events and 3 comparisons per event: 5 * 3 = 15 hypothesis tests"
   ]
  },
  {
   "cell_type": "code",
   "execution_count": 214,
   "metadata": {},
   "outputs": [
    {
     "name": "stdout",
     "output_type": "stream",
     "text": [
      "Adjusted significance level: 0.0033\n"
     ]
    }
   ],
   "source": [
    "# Initial significance level\n",
    "alpha = 0.05\n",
    "\n",
    "# Number of tests performed\n",
    "num_tests = 15\n",
    "\n",
    "# Significance level adjusted with Bonferroni\n",
    "adjusted_alpha = alpha / num_tests\n",
    "print(f\"Adjusted significance level: {adjusted_alpha:.4f}\")"
   ]
  },
  {
   "cell_type": "markdown",
   "metadata": {},
   "source": [
    "As the adjusted alpha is less than the main significance value, this means that the analysis still same regarding the statistically significant difference between groups (no difference)"
   ]
  },
  {
   "cell_type": "code",
   "execution_count": 215,
   "metadata": {},
   "outputs": [
    {
     "name": "stdout",
     "output_type": "stream",
     "text": [
      "Adjusted significance level: 0.0067\n"
     ]
    }
   ],
   "source": [
    "#Change Significance level\n",
    "alpha = 0.1\n",
    "\n",
    "# Number of tests performed\n",
    "num_tests = 15\n",
    "\n",
    "# Significance level adjusted with Bonferroni\n",
    "adjusted_alpha = alpha / num_tests\n",
    "print(f\"Adjusted significance level: {adjusted_alpha:.4f}\")"
   ]
  },
  {
   "cell_type": "markdown",
   "metadata": {},
   "source": [
    "Althought we chose a higher signifcance level 0.1 which increases the chance of false positives the p_values still greater than the adjusted significance level resulted based on the number of tests performed and our previous analaysis continues valid."
   ]
  }
 ],
 "metadata": {
  "ExecuteTimeLog": [
   {
    "duration": 5022,
    "start_time": "2024-08-22T09:24:31.232Z"
   },
   {
    "duration": 415,
    "start_time": "2024-08-22T09:29:16.914Z"
   },
   {
    "duration": 4,
    "start_time": "2024-08-22T09:29:19.334Z"
   },
   {
    "duration": 881,
    "start_time": "2024-08-22T09:29:30.351Z"
   },
   {
    "duration": 366,
    "start_time": "2024-08-22T09:29:36.662Z"
   },
   {
    "duration": 920,
    "start_time": "2024-08-22T09:29:44.721Z"
   },
   {
    "duration": 362,
    "start_time": "2024-08-22T09:29:55.240Z"
   },
   {
    "duration": 224,
    "start_time": "2024-08-22T09:35:20.478Z"
   },
   {
    "duration": 236,
    "start_time": "2024-08-22T09:38:50.496Z"
   },
   {
    "duration": 15,
    "start_time": "2024-08-22T09:40:42.599Z"
   },
   {
    "duration": 15,
    "start_time": "2024-08-22T09:41:18.849Z"
   },
   {
    "duration": 1217,
    "start_time": "2024-08-22T09:43:11.379Z"
   },
   {
    "duration": 351,
    "start_time": "2024-08-22T09:43:14.919Z"
   },
   {
    "duration": 4785,
    "start_time": "2024-08-22T10:52:43.764Z"
   },
   {
    "duration": 412,
    "start_time": "2024-08-22T10:52:48.553Z"
   },
   {
    "duration": 19,
    "start_time": "2024-08-22T10:52:48.968Z"
   },
   {
    "duration": 4,
    "start_time": "2024-08-22T10:53:07.158Z"
   },
   {
    "duration": 238,
    "start_time": "2024-08-22T10:53:09.507Z"
   },
   {
    "duration": 15,
    "start_time": "2024-08-22T10:53:44.065Z"
   },
   {
    "duration": 389,
    "start_time": "2024-08-22T10:55:53.920Z"
   },
   {
    "duration": 52,
    "start_time": "2024-08-22T10:56:07.944Z"
   },
   {
    "duration": 9,
    "start_time": "2024-08-22T10:57:22.585Z"
   },
   {
    "duration": 10,
    "start_time": "2024-08-22T10:57:32.601Z"
   },
   {
    "duration": 18,
    "start_time": "2024-08-22T10:57:45.590Z"
   },
   {
    "duration": 10,
    "start_time": "2024-08-22T10:57:52.799Z"
   },
   {
    "duration": 17,
    "start_time": "2024-08-22T10:58:11.610Z"
   },
   {
    "duration": 15,
    "start_time": "2024-08-22T10:59:02.486Z"
   },
   {
    "duration": 16,
    "start_time": "2024-08-22T10:59:14.208Z"
   },
   {
    "duration": 19,
    "start_time": "2024-08-22T10:59:30.288Z"
   },
   {
    "duration": 19,
    "start_time": "2024-08-22T10:59:44.214Z"
   },
   {
    "duration": 18,
    "start_time": "2024-08-22T10:59:58.519Z"
   },
   {
    "duration": 27,
    "start_time": "2024-08-22T11:00:57.981Z"
   },
   {
    "duration": 36,
    "start_time": "2024-08-22T11:01:10.554Z"
   },
   {
    "duration": 112,
    "start_time": "2024-08-22T11:01:34.037Z"
   },
   {
    "duration": 231,
    "start_time": "2024-08-22T11:03:57.150Z"
   },
   {
    "duration": 231,
    "start_time": "2024-08-22T11:10:26.508Z"
   },
   {
    "duration": 242,
    "start_time": "2024-08-22T11:10:35.115Z"
   },
   {
    "duration": 250,
    "start_time": "2024-08-22T11:10:59.521Z"
   },
   {
    "duration": 3,
    "start_time": "2024-08-22T11:17:20.409Z"
   },
   {
    "duration": 4,
    "start_time": "2024-08-22T11:17:51.018Z"
   },
   {
    "duration": 10,
    "start_time": "2024-08-22T11:18:30.097Z"
   },
   {
    "duration": 14,
    "start_time": "2024-08-22T11:19:13.750Z"
   },
   {
    "duration": 39,
    "start_time": "2024-08-22T11:19:59.645Z"
   },
   {
    "duration": 4,
    "start_time": "2024-08-22T11:21:30.637Z"
   },
   {
    "duration": 17,
    "start_time": "2024-08-22T11:21:59.679Z"
   },
   {
    "duration": 9,
    "start_time": "2024-08-22T11:22:02.587Z"
   },
   {
    "duration": 5,
    "start_time": "2024-08-22T11:22:03.784Z"
   },
   {
    "duration": 7,
    "start_time": "2024-08-22T11:23:25.683Z"
   },
   {
    "duration": 248,
    "start_time": "2024-08-22T11:26:34.725Z"
   },
   {
    "duration": 289,
    "start_time": "2024-08-22T11:27:15.726Z"
   },
   {
    "duration": 7,
    "start_time": "2024-08-22T11:28:57.913Z"
   },
   {
    "duration": 35,
    "start_time": "2024-08-22T11:31:07.031Z"
   },
   {
    "duration": 1831,
    "start_time": "2024-08-22T11:31:26.048Z"
   },
   {
    "duration": 1530,
    "start_time": "2024-08-22T11:31:37.649Z"
   },
   {
    "duration": 1588,
    "start_time": "2024-08-22T11:32:27.056Z"
   },
   {
    "duration": 1532,
    "start_time": "2024-08-22T11:33:17.109Z"
   },
   {
    "duration": 1520,
    "start_time": "2024-08-22T11:33:31.563Z"
   },
   {
    "duration": 122,
    "start_time": "2024-08-22T11:40:54.080Z"
   },
   {
    "duration": 235,
    "start_time": "2024-08-22T11:41:11.588Z"
   },
   {
    "duration": 1990,
    "start_time": "2024-08-22T11:41:27.481Z"
   },
   {
    "duration": 1267,
    "start_time": "2024-08-22T11:41:44.617Z"
   },
   {
    "duration": 1423,
    "start_time": "2024-08-22T11:42:45.917Z"
   },
   {
    "duration": 1356,
    "start_time": "2024-08-22T11:42:55.200Z"
   },
   {
    "duration": 1330,
    "start_time": "2024-08-22T11:43:14.236Z"
   },
   {
    "duration": 1401,
    "start_time": "2024-08-22T11:43:27.509Z"
   },
   {
    "duration": 28,
    "start_time": "2024-08-22T11:44:02.391Z"
   },
   {
    "duration": 233,
    "start_time": "2024-08-22T11:44:14.932Z"
   },
   {
    "duration": 28,
    "start_time": "2024-08-22T11:44:27.888Z"
   },
   {
    "duration": 1126,
    "start_time": "2024-08-22T11:44:40.140Z"
   },
   {
    "duration": 1591,
    "start_time": "2024-08-22T11:44:50.613Z"
   },
   {
    "duration": 940,
    "start_time": "2024-08-22T11:45:44.760Z"
   },
   {
    "duration": 921,
    "start_time": "2024-08-22T11:45:58.735Z"
   },
   {
    "duration": 927,
    "start_time": "2024-08-22T11:47:16.164Z"
   },
   {
    "duration": 918,
    "start_time": "2024-08-22T11:47:27.335Z"
   },
   {
    "duration": 918,
    "start_time": "2024-08-22T11:47:41.177Z"
   },
   {
    "duration": 237,
    "start_time": "2024-08-22T11:53:49.181Z"
   },
   {
    "duration": 8,
    "start_time": "2024-08-22T11:54:02.760Z"
   },
   {
    "duration": 915,
    "start_time": "2024-08-22T11:54:04.941Z"
   },
   {
    "duration": 1590,
    "start_time": "2024-08-22T11:54:16.095Z"
   },
   {
    "duration": 5009,
    "start_time": "2024-08-22T12:50:07.929Z"
   },
   {
    "duration": 273,
    "start_time": "2024-08-22T12:50:12.942Z"
   },
   {
    "duration": 16,
    "start_time": "2024-08-22T12:50:13.218Z"
   },
   {
    "duration": 72,
    "start_time": "2024-08-22T12:50:13.237Z"
   },
   {
    "duration": 251,
    "start_time": "2024-08-22T12:50:13.312Z"
   },
   {
    "duration": 14,
    "start_time": "2024-08-22T12:50:15.616Z"
   },
   {
    "duration": 10,
    "start_time": "2024-08-22T12:50:17.158Z"
   },
   {
    "duration": 4,
    "start_time": "2024-08-22T12:50:18.352Z"
   },
   {
    "duration": 7,
    "start_time": "2024-08-22T12:50:19.695Z"
   },
   {
    "duration": 927,
    "start_time": "2024-08-22T12:50:20.231Z"
   },
   {
    "duration": 1630,
    "start_time": "2024-08-22T12:50:21.999Z"
   },
   {
    "duration": 4,
    "start_time": "2024-08-22T12:50:47.810Z"
   },
   {
    "duration": 227,
    "start_time": "2024-08-22T12:50:48.390Z"
   },
   {
    "duration": 16,
    "start_time": "2024-08-22T12:50:49.019Z"
   },
   {
    "duration": 54,
    "start_time": "2024-08-22T12:50:49.398Z"
   },
   {
    "duration": 231,
    "start_time": "2024-08-22T12:50:49.984Z"
   },
   {
    "duration": 14,
    "start_time": "2024-08-22T12:50:50.554Z"
   },
   {
    "duration": 9,
    "start_time": "2024-08-22T12:50:50.937Z"
   },
   {
    "duration": 4,
    "start_time": "2024-08-22T12:50:51.341Z"
   },
   {
    "duration": 7,
    "start_time": "2024-08-22T12:50:51.912Z"
   },
   {
    "duration": 928,
    "start_time": "2024-08-22T12:50:52.103Z"
   },
   {
    "duration": 1643,
    "start_time": "2024-08-22T12:50:53.273Z"
   },
   {
    "duration": 661,
    "start_time": "2024-08-22T12:55:33.837Z"
   },
   {
    "duration": 4,
    "start_time": "2024-08-22T12:55:46.132Z"
   },
   {
    "duration": 223,
    "start_time": "2024-08-22T12:55:46.148Z"
   },
   {
    "duration": 32,
    "start_time": "2024-08-22T12:55:46.374Z"
   },
   {
    "duration": 41,
    "start_time": "2024-08-22T12:55:46.409Z"
   },
   {
    "duration": 253,
    "start_time": "2024-08-22T12:55:46.454Z"
   },
   {
    "duration": 14,
    "start_time": "2024-08-22T12:55:46.710Z"
   },
   {
    "duration": 9,
    "start_time": "2024-08-22T12:55:46.727Z"
   },
   {
    "duration": 5,
    "start_time": "2024-08-22T12:55:46.739Z"
   },
   {
    "duration": 43,
    "start_time": "2024-08-22T12:55:46.750Z"
   },
   {
    "duration": 921,
    "start_time": "2024-08-22T12:55:46.796Z"
   },
   {
    "duration": 1590,
    "start_time": "2024-08-22T12:55:47.721Z"
   },
   {
    "duration": 68,
    "start_time": "2024-08-22T12:55:57.110Z"
   },
   {
    "duration": 39,
    "start_time": "2024-08-22T13:06:20.290Z"
   },
   {
    "duration": 11,
    "start_time": "2024-08-22T13:10:51.934Z"
   },
   {
    "duration": 7,
    "start_time": "2024-08-22T13:13:53.001Z"
   },
   {
    "duration": 23,
    "start_time": "2024-08-22T13:46:15.045Z"
   },
   {
    "duration": 26,
    "start_time": "2024-08-22T13:46:28.054Z"
   },
   {
    "duration": 2483,
    "start_time": "2024-08-29T11:47:32.436Z"
   },
   {
    "duration": 169,
    "start_time": "2024-08-29T11:47:34.921Z"
   },
   {
    "duration": 8,
    "start_time": "2024-08-29T11:47:35.092Z"
   },
   {
    "duration": 29,
    "start_time": "2024-08-29T11:47:35.102Z"
   },
   {
    "duration": 125,
    "start_time": "2024-08-29T11:47:35.132Z"
   },
   {
    "duration": 9,
    "start_time": "2024-08-29T11:47:35.330Z"
   },
   {
    "duration": 8,
    "start_time": "2024-08-29T11:47:35.763Z"
   },
   {
    "duration": 3,
    "start_time": "2024-08-29T11:47:36.211Z"
   },
   {
    "duration": 5,
    "start_time": "2024-08-29T11:47:36.848Z"
   },
   {
    "duration": 439,
    "start_time": "2024-08-29T11:47:37.061Z"
   },
   {
    "duration": 787,
    "start_time": "2024-08-29T11:47:37.502Z"
   },
   {
    "duration": 24,
    "start_time": "2024-08-29T11:47:38.291Z"
   },
   {
    "duration": 6,
    "start_time": "2024-08-29T11:47:38.706Z"
   },
   {
    "duration": 4,
    "start_time": "2024-08-29T11:47:39.566Z"
   },
   {
    "duration": 18,
    "start_time": "2024-08-29T11:47:40.329Z"
   },
   {
    "duration": 261,
    "start_time": "2024-08-29T11:49:04.389Z"
   },
   {
    "duration": 37,
    "start_time": "2024-08-29T11:49:26.493Z"
   },
   {
    "duration": 37,
    "start_time": "2024-08-29T11:51:12.031Z"
   },
   {
    "duration": 38,
    "start_time": "2024-08-29T11:51:24.560Z"
   },
   {
    "duration": 39,
    "start_time": "2024-08-29T11:51:47.536Z"
   },
   {
    "duration": 35,
    "start_time": "2024-08-29T11:52:04.349Z"
   },
   {
    "duration": 7,
    "start_time": "2024-08-29T11:52:11.119Z"
   },
   {
    "duration": 6,
    "start_time": "2024-08-29T11:52:41.526Z"
   },
   {
    "duration": 39,
    "start_time": "2024-08-29T11:52:43.186Z"
   },
   {
    "duration": 37,
    "start_time": "2024-08-29T11:53:32.016Z"
   },
   {
    "duration": 5,
    "start_time": "2024-08-29T11:53:32.994Z"
   },
   {
    "duration": 85,
    "start_time": "2024-08-29T12:00:42.237Z"
   },
   {
    "duration": 141,
    "start_time": "2024-08-29T12:02:45.040Z"
   },
   {
    "duration": 138,
    "start_time": "2024-08-29T12:03:41.176Z"
   },
   {
    "duration": 131,
    "start_time": "2024-08-29T12:04:25.145Z"
   },
   {
    "duration": 138,
    "start_time": "2024-08-29T12:04:33.702Z"
   },
   {
    "duration": 134,
    "start_time": "2024-08-29T12:04:45.111Z"
   },
   {
    "duration": 133,
    "start_time": "2024-08-29T12:08:50.138Z"
   },
   {
    "duration": 14,
    "start_time": "2024-08-29T12:24:13.911Z"
   },
   {
    "duration": 6,
    "start_time": "2024-08-29T12:24:17.788Z"
   },
   {
    "duration": 4,
    "start_time": "2024-08-29T12:24:24.840Z"
   },
   {
    "duration": 4,
    "start_time": "2024-08-29T12:26:38.000Z"
   },
   {
    "duration": 3,
    "start_time": "2024-08-29T12:26:42.641Z"
   },
   {
    "duration": 4,
    "start_time": "2024-08-29T12:28:27.204Z"
   },
   {
    "duration": 4,
    "start_time": "2024-08-29T12:28:37.160Z"
   },
   {
    "duration": 4,
    "start_time": "2024-08-29T12:28:42.297Z"
   },
   {
    "duration": 4,
    "start_time": "2024-08-29T12:29:35.807Z"
   },
   {
    "duration": 3,
    "start_time": "2024-08-29T12:29:39.742Z"
   },
   {
    "duration": 4,
    "start_time": "2024-08-29T12:29:43.614Z"
   },
   {
    "duration": 3,
    "start_time": "2024-08-29T12:29:47.156Z"
   },
   {
    "duration": 6,
    "start_time": "2024-08-29T12:30:56.661Z"
   },
   {
    "duration": 25,
    "start_time": "2024-08-29T12:32:56.644Z"
   },
   {
    "duration": 19,
    "start_time": "2024-08-29T12:33:13.806Z"
   },
   {
    "duration": 20,
    "start_time": "2024-08-29T12:34:41.107Z"
   },
   {
    "duration": 18,
    "start_time": "2024-08-29T12:34:57.379Z"
   },
   {
    "duration": 4,
    "start_time": "2024-08-29T12:47:56.065Z"
   },
   {
    "duration": 18,
    "start_time": "2024-08-29T12:58:34.516Z"
   },
   {
    "duration": 26,
    "start_time": "2024-08-29T12:58:36.296Z"
   },
   {
    "duration": 21,
    "start_time": "2024-08-29T12:58:58.102Z"
   },
   {
    "duration": 20,
    "start_time": "2024-08-29T12:59:27.609Z"
   },
   {
    "duration": 20,
    "start_time": "2024-08-29T13:00:00.005Z"
   },
   {
    "duration": 19,
    "start_time": "2024-08-29T13:00:01.488Z"
   },
   {
    "duration": 15,
    "start_time": "2024-08-29T13:03:17.342Z"
   },
   {
    "duration": 4,
    "start_time": "2024-08-29T13:03:27.407Z"
   },
   {
    "duration": 3,
    "start_time": "2024-08-29T13:06:05.210Z"
   },
   {
    "duration": 13,
    "start_time": "2024-08-29T13:06:33.532Z"
   },
   {
    "duration": 13,
    "start_time": "2024-08-29T13:06:36.685Z"
   },
   {
    "duration": 3,
    "start_time": "2024-08-29T13:06:49.114Z"
   },
   {
    "duration": 20,
    "start_time": "2024-08-29T13:18:18.844Z"
   },
   {
    "duration": 20,
    "start_time": "2024-08-29T13:18:24.024Z"
   },
   {
    "duration": 17,
    "start_time": "2024-08-29T13:47:34.846Z"
   },
   {
    "duration": 16,
    "start_time": "2024-08-29T14:01:31.638Z"
   },
   {
    "duration": 35,
    "start_time": "2024-08-29T14:01:41.053Z"
   },
   {
    "duration": 4,
    "start_time": "2024-08-29T14:30:44.953Z"
   },
   {
    "duration": 4,
    "start_time": "2024-08-29T14:31:47.637Z"
   },
   {
    "duration": 4,
    "start_time": "2024-08-29T14:32:25.916Z"
   },
   {
    "duration": 5,
    "start_time": "2024-08-29T14:32:34.704Z"
   },
   {
    "duration": 4,
    "start_time": "2024-08-29T14:32:45.974Z"
   },
   {
    "duration": 4,
    "start_time": "2024-08-29T14:32:54.155Z"
   },
   {
    "duration": 30,
    "start_time": "2024-08-29T14:36:50.926Z"
   },
   {
    "duration": 31,
    "start_time": "2024-08-29T14:37:56.444Z"
   },
   {
    "duration": 4,
    "start_time": "2024-08-29T14:38:47.460Z"
   },
   {
    "duration": 4,
    "start_time": "2024-08-29T14:38:57.367Z"
   },
   {
    "duration": 18,
    "start_time": "2024-08-29T14:39:11.099Z"
   },
   {
    "duration": 5,
    "start_time": "2024-08-29T15:01:52.134Z"
   },
   {
    "duration": 5,
    "start_time": "2024-08-29T15:02:22.387Z"
   },
   {
    "duration": 149,
    "start_time": "2024-08-29T15:02:29.289Z"
   },
   {
    "duration": 53,
    "start_time": "2024-08-29T15:02:51.270Z"
   },
   {
    "duration": 64,
    "start_time": "2024-08-29T15:14:17.916Z"
   },
   {
    "duration": 3,
    "start_time": "2024-08-29T15:15:10.512Z"
   },
   {
    "duration": 30,
    "start_time": "2024-08-29T15:15:48.999Z"
   },
   {
    "duration": 4,
    "start_time": "2024-08-29T15:17:12.508Z"
   },
   {
    "duration": 15,
    "start_time": "2024-08-29T15:17:19.217Z"
   },
   {
    "duration": 41,
    "start_time": "2024-08-29T15:17:32.465Z"
   },
   {
    "duration": 40,
    "start_time": "2024-08-29T15:20:19.652Z"
   },
   {
    "duration": 159,
    "start_time": "2024-08-31T13:32:01.094Z"
   },
   {
    "duration": 0,
    "start_time": "2024-08-31T13:32:01.255Z"
   },
   {
    "duration": 12,
    "start_time": "2024-08-31T13:32:04.468Z"
   },
   {
    "duration": 11,
    "start_time": "2024-08-31T13:32:05.193Z"
   },
   {
    "duration": 2450,
    "start_time": "2024-08-31T13:32:11.555Z"
   },
   {
    "duration": 171,
    "start_time": "2024-08-31T13:32:14.007Z"
   },
   {
    "duration": 10,
    "start_time": "2024-08-31T13:32:16.612Z"
   },
   {
    "duration": 29,
    "start_time": "2024-08-31T13:32:17.719Z"
   },
   {
    "duration": 111,
    "start_time": "2024-08-31T13:32:18.940Z"
   },
   {
    "duration": 10,
    "start_time": "2024-08-31T13:32:20.218Z"
   },
   {
    "duration": 7,
    "start_time": "2024-08-31T13:32:20.975Z"
   },
   {
    "duration": 3,
    "start_time": "2024-08-31T13:32:21.662Z"
   },
   {
    "duration": 4,
    "start_time": "2024-08-31T13:32:22.519Z"
   },
   {
    "duration": 436,
    "start_time": "2024-08-31T13:32:22.776Z"
   },
   {
    "duration": 764,
    "start_time": "2024-08-31T13:32:23.370Z"
   },
   {
    "duration": 26,
    "start_time": "2024-08-31T13:32:24.155Z"
   },
   {
    "duration": 7,
    "start_time": "2024-08-31T13:32:24.666Z"
   },
   {
    "duration": 4,
    "start_time": "2024-08-31T13:32:25.506Z"
   },
   {
    "duration": 18,
    "start_time": "2024-08-31T13:32:26.353Z"
   },
   {
    "duration": 37,
    "start_time": "2024-08-31T13:32:27.470Z"
   },
   {
    "duration": 5,
    "start_time": "2024-08-31T13:32:27.831Z"
   },
   {
    "duration": 84,
    "start_time": "2024-08-31T13:32:28.550Z"
   },
   {
    "duration": 191,
    "start_time": "2024-08-31T13:32:29.040Z"
   },
   {
    "duration": 25,
    "start_time": "2024-08-31T13:32:31.545Z"
   },
   {
    "duration": 19,
    "start_time": "2024-08-31T13:32:31.792Z"
   },
   {
    "duration": 18,
    "start_time": "2024-08-31T13:32:32.067Z"
   },
   {
    "duration": 18,
    "start_time": "2024-08-31T13:32:32.354Z"
   },
   {
    "duration": 4,
    "start_time": "2024-08-31T13:32:32.872Z"
   },
   {
    "duration": 3,
    "start_time": "2024-08-31T13:32:33.543Z"
   },
   {
    "duration": 22,
    "start_time": "2024-08-31T13:32:34.922Z"
   },
   {
    "duration": 4,
    "start_time": "2024-08-31T13:32:37.398Z"
   },
   {
    "duration": 35,
    "start_time": "2024-08-31T13:32:58.054Z"
   },
   {
    "duration": 2,
    "start_time": "2024-08-31T13:33:53.733Z"
   },
   {
    "duration": 131,
    "start_time": "2024-08-31T13:33:53.739Z"
   },
   {
    "duration": 8,
    "start_time": "2024-08-31T13:33:53.872Z"
   },
   {
    "duration": 24,
    "start_time": "2024-08-31T13:33:53.881Z"
   },
   {
    "duration": 128,
    "start_time": "2024-08-31T13:33:53.907Z"
   },
   {
    "duration": 10,
    "start_time": "2024-08-31T13:33:54.037Z"
   },
   {
    "duration": 5,
    "start_time": "2024-08-31T13:33:54.049Z"
   },
   {
    "duration": 3,
    "start_time": "2024-08-31T13:33:54.071Z"
   },
   {
    "duration": 7,
    "start_time": "2024-08-31T13:33:54.076Z"
   },
   {
    "duration": 440,
    "start_time": "2024-08-31T13:33:54.085Z"
   },
   {
    "duration": 767,
    "start_time": "2024-08-31T13:33:54.528Z"
   },
   {
    "duration": 26,
    "start_time": "2024-08-31T13:33:55.297Z"
   },
   {
    "duration": 6,
    "start_time": "2024-08-31T13:33:55.324Z"
   },
   {
    "duration": 4,
    "start_time": "2024-08-31T13:33:55.331Z"
   },
   {
    "duration": 41,
    "start_time": "2024-08-31T13:33:55.338Z"
   },
   {
    "duration": 38,
    "start_time": "2024-08-31T13:33:55.380Z"
   },
   {
    "duration": 6,
    "start_time": "2024-08-31T13:33:55.419Z"
   },
   {
    "duration": 98,
    "start_time": "2024-08-31T13:33:55.426Z"
   },
   {
    "duration": 146,
    "start_time": "2024-08-31T13:33:55.526Z"
   },
   {
    "duration": 26,
    "start_time": "2024-08-31T13:33:55.673Z"
   },
   {
    "duration": 19,
    "start_time": "2024-08-31T13:33:55.700Z"
   },
   {
    "duration": 20,
    "start_time": "2024-08-31T13:33:55.721Z"
   },
   {
    "duration": 42,
    "start_time": "2024-08-31T13:33:55.742Z"
   },
   {
    "duration": 3,
    "start_time": "2024-08-31T13:33:55.786Z"
   },
   {
    "duration": 3,
    "start_time": "2024-08-31T13:33:55.790Z"
   },
   {
    "duration": 21,
    "start_time": "2024-08-31T13:33:55.796Z"
   },
   {
    "duration": 4,
    "start_time": "2024-08-31T13:33:55.819Z"
   },
   {
    "duration": 34,
    "start_time": "2024-08-31T13:33:59.161Z"
   },
   {
    "duration": 64,
    "start_time": "2024-08-31T13:49:44.122Z"
   },
   {
    "duration": 3,
    "start_time": "2024-08-31T14:07:40.316Z"
   },
   {
    "duration": 4,
    "start_time": "2024-08-31T14:10:49.905Z"
   },
   {
    "duration": 3,
    "start_time": "2024-08-31T14:11:05.794Z"
   },
   {
    "duration": 3,
    "start_time": "2024-08-31T14:13:12.813Z"
   },
   {
    "duration": 80,
    "start_time": "2024-08-31T14:14:57.562Z"
   },
   {
    "duration": 8,
    "start_time": "2024-08-31T14:16:04.897Z"
   },
   {
    "duration": 20,
    "start_time": "2024-08-31T14:24:05.583Z"
   },
   {
    "duration": 9,
    "start_time": "2024-08-31T14:24:25.928Z"
   },
   {
    "duration": 165,
    "start_time": "2024-08-31T14:36:01.316Z"
   },
   {
    "duration": 8,
    "start_time": "2024-08-31T14:36:56.607Z"
   },
   {
    "duration": 164,
    "start_time": "2024-08-31T14:37:14.667Z"
   },
   {
    "duration": 161,
    "start_time": "2024-08-31T14:37:32.736Z"
   },
   {
    "duration": 160,
    "start_time": "2024-08-31T14:38:09.383Z"
   },
   {
    "duration": 64,
    "start_time": "2024-08-31T14:40:27.960Z"
   },
   {
    "duration": 9,
    "start_time": "2024-08-31T14:40:28.274Z"
   },
   {
    "duration": 162,
    "start_time": "2024-08-31T14:40:28.885Z"
   },
   {
    "duration": 163,
    "start_time": "2024-08-31T14:46:58.063Z"
   },
   {
    "duration": 162,
    "start_time": "2024-08-31T14:48:23.025Z"
   },
   {
    "duration": 314,
    "start_time": "2024-08-31T14:50:16.545Z"
   },
   {
    "duration": 64,
    "start_time": "2024-08-31T14:50:25.883Z"
   },
   {
    "duration": 161,
    "start_time": "2024-08-31T14:55:16.364Z"
   },
   {
    "duration": 66,
    "start_time": "2024-08-31T14:55:23.291Z"
   },
   {
    "duration": 164,
    "start_time": "2024-08-31T14:55:48.506Z"
   },
   {
    "duration": 299,
    "start_time": "2024-08-31T14:55:50.808Z"
   },
   {
    "duration": 313,
    "start_time": "2024-08-31T14:59:57.707Z"
   },
   {
    "duration": 170,
    "start_time": "2024-08-31T15:01:53.214Z"
   },
   {
    "duration": 171,
    "start_time": "2024-08-31T15:03:14.189Z"
   },
   {
    "duration": 316,
    "start_time": "2024-08-31T15:03:16.599Z"
   },
   {
    "duration": 7,
    "start_time": "2024-08-31T15:07:32.911Z"
   },
   {
    "duration": 166,
    "start_time": "2024-08-31T15:08:56.327Z"
   },
   {
    "duration": 306,
    "start_time": "2024-08-31T15:09:38.376Z"
   },
   {
    "duration": 166,
    "start_time": "2024-08-31T15:11:53.512Z"
   },
   {
    "duration": 5,
    "start_time": "2024-08-31T15:19:57.755Z"
   },
   {
    "duration": 4,
    "start_time": "2024-08-31T15:20:12.082Z"
   },
   {
    "duration": 28,
    "start_time": "2024-08-31T15:20:34.339Z"
   },
   {
    "duration": 30,
    "start_time": "2024-08-31T15:20:48.370Z"
   },
   {
    "duration": 365,
    "start_time": "2024-08-31T15:21:20.026Z"
   },
   {
    "duration": 108,
    "start_time": "2024-08-31T15:21:52.467Z"
   },
   {
    "duration": 4,
    "start_time": "2024-08-31T15:21:55.828Z"
   },
   {
    "duration": 4,
    "start_time": "2024-08-31T15:22:00.942Z"
   },
   {
    "duration": 5,
    "start_time": "2024-08-31T15:22:05.368Z"
   },
   {
    "duration": 215,
    "start_time": "2024-08-31T15:22:21.579Z"
   },
   {
    "duration": 105,
    "start_time": "2024-08-31T15:23:24.428Z"
   },
   {
    "duration": 107,
    "start_time": "2024-08-31T15:25:13.605Z"
   },
   {
    "duration": 266,
    "start_time": "2024-08-31T15:32:12.831Z"
   },
   {
    "duration": 232,
    "start_time": "2024-08-31T15:36:33.512Z"
   },
   {
    "duration": 443,
    "start_time": "2024-08-31T15:38:59.121Z"
   },
   {
    "duration": 442,
    "start_time": "2024-08-31T15:39:57.199Z"
   },
   {
    "duration": 445,
    "start_time": "2024-08-31T15:40:19.244Z"
   },
   {
    "duration": 443,
    "start_time": "2024-08-31T15:41:10.978Z"
   },
   {
    "duration": 439,
    "start_time": "2024-08-31T15:41:43.904Z"
   },
   {
    "duration": 439,
    "start_time": "2024-08-31T15:41:58.494Z"
   },
   {
    "duration": 437,
    "start_time": "2024-08-31T15:42:15.897Z"
   },
   {
    "duration": 111,
    "start_time": "2024-08-31T15:46:00.177Z"
   },
   {
    "duration": 231,
    "start_time": "2024-08-31T15:47:59.393Z"
   },
   {
    "duration": 232,
    "start_time": "2024-08-31T15:48:31.689Z"
   },
   {
    "duration": 442,
    "start_time": "2024-08-31T15:48:35.692Z"
   },
   {
    "duration": 109,
    "start_time": "2024-08-31T15:48:38.317Z"
   },
   {
    "duration": 234,
    "start_time": "2024-08-31T15:49:11.132Z"
   },
   {
    "duration": 444,
    "start_time": "2024-08-31T15:49:24.160Z"
   },
   {
    "duration": 115,
    "start_time": "2024-08-31T15:49:24.945Z"
   },
   {
    "duration": 162,
    "start_time": "2024-08-31T15:54:37.982Z"
   },
   {
    "duration": 292,
    "start_time": "2024-08-31T15:54:40.150Z"
   },
   {
    "duration": 22,
    "start_time": "2024-08-31T15:58:01.301Z"
   },
   {
    "duration": 5,
    "start_time": "2024-08-31T15:58:11.377Z"
   },
   {
    "duration": 65,
    "start_time": "2024-08-31T15:58:13.210Z"
   },
   {
    "duration": 9,
    "start_time": "2024-08-31T15:58:14.085Z"
   },
   {
    "duration": 164,
    "start_time": "2024-08-31T15:58:14.720Z"
   },
   {
    "duration": 305,
    "start_time": "2024-08-31T15:58:16.654Z"
   },
   {
    "duration": 180,
    "start_time": "2024-08-31T15:58:17.813Z"
   },
   {
    "duration": 162,
    "start_time": "2024-08-31T15:58:38.915Z"
   },
   {
    "duration": 128,
    "start_time": "2024-08-31T15:59:31.228Z"
   },
   {
    "duration": 17,
    "start_time": "2024-08-31T15:59:48.080Z"
   },
   {
    "duration": 22,
    "start_time": "2024-08-31T16:00:16.242Z"
   },
   {
    "duration": 5,
    "start_time": "2024-08-31T16:00:26.332Z"
   },
   {
    "duration": 65,
    "start_time": "2024-08-31T16:00:27.720Z"
   },
   {
    "duration": 8,
    "start_time": "2024-08-31T16:00:31.139Z"
   },
   {
    "duration": 163,
    "start_time": "2024-08-31T16:00:31.841Z"
   },
   {
    "duration": 296,
    "start_time": "2024-08-31T16:00:44.947Z"
   },
   {
    "duration": 15,
    "start_time": "2024-08-31T16:00:47.845Z"
   },
   {
    "duration": 130,
    "start_time": "2024-08-31T16:01:21.403Z"
   },
   {
    "duration": 154,
    "start_time": "2024-08-31T16:08:27.277Z"
   },
   {
    "duration": 173,
    "start_time": "2024-08-31T16:11:34.736Z"
   },
   {
    "duration": 3,
    "start_time": "2024-08-31T16:19:54.990Z"
   },
   {
    "duration": 161,
    "start_time": "2024-08-31T16:21:39.700Z"
   },
   {
    "duration": 164,
    "start_time": "2024-08-31T16:24:00.423Z"
   },
   {
    "duration": 4,
    "start_time": "2024-08-31T16:25:04.207Z"
   },
   {
    "duration": 4,
    "start_time": "2024-08-31T16:25:11.306Z"
   },
   {
    "duration": 3,
    "start_time": "2024-08-31T16:27:48.580Z"
   },
   {
    "duration": 3,
    "start_time": "2024-08-31T16:27:54.017Z"
   },
   {
    "duration": 4,
    "start_time": "2024-08-31T16:32:28.182Z"
   },
   {
    "duration": 20,
    "start_time": "2024-08-31T16:43:19.729Z"
   },
   {
    "duration": 14,
    "start_time": "2024-08-31T16:45:57.144Z"
   },
   {
    "duration": 72,
    "start_time": "2024-08-31T16:46:12.746Z"
   },
   {
    "duration": 15,
    "start_time": "2024-08-31T16:46:36.790Z"
   },
   {
    "duration": 21,
    "start_time": "2024-08-31T16:46:54.373Z"
   },
   {
    "duration": 56,
    "start_time": "2024-08-31T16:47:45.005Z"
   },
   {
    "duration": 22,
    "start_time": "2024-08-31T16:49:10.740Z"
   },
   {
    "duration": 23,
    "start_time": "2024-08-31T16:51:26.392Z"
   },
   {
    "duration": 68,
    "start_time": "2024-08-31T16:51:49.828Z"
   },
   {
    "duration": 70,
    "start_time": "2024-08-31T16:53:04.747Z"
   },
   {
    "duration": 3,
    "start_time": "2024-08-31T16:53:18.608Z"
   },
   {
    "duration": 122,
    "start_time": "2024-08-31T16:53:18.880Z"
   },
   {
    "duration": 9,
    "start_time": "2024-08-31T16:53:19.188Z"
   },
   {
    "duration": 27,
    "start_time": "2024-08-31T16:53:19.545Z"
   },
   {
    "duration": 112,
    "start_time": "2024-08-31T16:53:20.058Z"
   },
   {
    "duration": 10,
    "start_time": "2024-08-31T16:53:20.579Z"
   },
   {
    "duration": 8,
    "start_time": "2024-08-31T16:53:20.894Z"
   },
   {
    "duration": 3,
    "start_time": "2024-08-31T16:53:21.149Z"
   },
   {
    "duration": 5,
    "start_time": "2024-08-31T16:53:21.737Z"
   },
   {
    "duration": 420,
    "start_time": "2024-08-31T16:53:21.896Z"
   },
   {
    "duration": 761,
    "start_time": "2024-08-31T16:53:22.318Z"
   },
   {
    "duration": 23,
    "start_time": "2024-08-31T16:53:23.082Z"
   },
   {
    "duration": 6,
    "start_time": "2024-08-31T16:53:24.235Z"
   },
   {
    "duration": 4,
    "start_time": "2024-08-31T16:53:25.873Z"
   },
   {
    "duration": 18,
    "start_time": "2024-08-31T16:53:26.902Z"
   },
   {
    "duration": 38,
    "start_time": "2024-08-31T16:53:28.110Z"
   },
   {
    "duration": 5,
    "start_time": "2024-08-31T16:53:28.762Z"
   },
   {
    "duration": 80,
    "start_time": "2024-08-31T16:53:32.236Z"
   },
   {
    "duration": 140,
    "start_time": "2024-08-31T16:53:33.744Z"
   },
   {
    "duration": 28,
    "start_time": "2024-08-31T16:53:36.688Z"
   },
   {
    "duration": 19,
    "start_time": "2024-08-31T16:53:38.046Z"
   },
   {
    "duration": 19,
    "start_time": "2024-08-31T16:53:39.814Z"
   },
   {
    "duration": 18,
    "start_time": "2024-08-31T16:53:41.806Z"
   },
   {
    "duration": 4,
    "start_time": "2024-08-31T16:53:44.620Z"
   },
   {
    "duration": 3,
    "start_time": "2024-08-31T16:53:46.279Z"
   },
   {
    "duration": 22,
    "start_time": "2024-08-31T16:53:49.819Z"
   },
   {
    "duration": 4,
    "start_time": "2024-08-31T16:53:52.999Z"
   },
   {
    "duration": 67,
    "start_time": "2024-08-31T16:53:55.701Z"
   },
   {
    "duration": 8,
    "start_time": "2024-08-31T16:53:58.007Z"
   },
   {
    "duration": 162,
    "start_time": "2024-08-31T16:53:58.753Z"
   },
   {
    "duration": 297,
    "start_time": "2024-08-31T16:54:01.732Z"
   },
   {
    "duration": 3,
    "start_time": "2024-08-31T16:54:13.680Z"
   },
   {
    "duration": 3,
    "start_time": "2024-08-31T16:54:14.801Z"
   },
   {
    "duration": 46,
    "start_time": "2024-08-31T16:54:24.256Z"
   },
   {
    "duration": 16,
    "start_time": "2024-08-31T16:54:39.026Z"
   },
   {
    "duration": 9,
    "start_time": "2024-08-31T16:55:16.853Z"
   },
   {
    "duration": 5,
    "start_time": "2024-08-31T16:55:37.051Z"
   },
   {
    "duration": 64,
    "start_time": "2024-08-31T16:57:25.207Z"
   },
   {
    "duration": 42,
    "start_time": "2024-08-31T16:59:39.463Z"
   },
   {
    "duration": 42,
    "start_time": "2024-08-31T16:59:58.979Z"
   },
   {
    "duration": 5,
    "start_time": "2024-08-31T17:00:37.101Z"
   },
   {
    "duration": 21,
    "start_time": "2024-08-31T17:01:01.858Z"
   },
   {
    "duration": 4,
    "start_time": "2024-08-31T17:01:02.446Z"
   },
   {
    "duration": 99,
    "start_time": "2024-08-31T17:01:02.876Z"
   },
   {
    "duration": 9,
    "start_time": "2024-08-31T17:01:03.060Z"
   },
   {
    "duration": 122,
    "start_time": "2024-08-31T17:01:03.208Z"
   },
   {
    "duration": 268,
    "start_time": "2024-08-31T17:01:04.983Z"
   },
   {
    "duration": 176,
    "start_time": "2024-08-31T17:01:09.937Z"
   },
   {
    "duration": 4,
    "start_time": "2024-08-31T17:01:17.417Z"
   },
   {
    "duration": 11,
    "start_time": "2024-08-31T17:01:44.514Z"
   },
   {
    "duration": 177,
    "start_time": "2024-08-31T17:02:52.168Z"
   },
   {
    "duration": 180,
    "start_time": "2024-08-31T17:03:13.292Z"
   },
   {
    "duration": 3,
    "start_time": "2024-08-31T17:06:18.844Z"
   },
   {
    "duration": 3,
    "start_time": "2024-08-31T17:06:19.546Z"
   }
  ],
  "kernelspec": {
   "display_name": "Python 3 (ipykernel)",
   "language": "python",
   "name": "python3"
  },
  "language_info": {
   "codemirror_mode": {
    "name": "ipython",
    "version": 3
   },
   "file_extension": ".py",
   "mimetype": "text/x-python",
   "name": "python",
   "nbconvert_exporter": "python",
   "pygments_lexer": "ipython3",
   "version": "3.9.19"
  },
  "toc": {
   "base_numbering": 1,
   "nav_menu": {},
   "number_sections": true,
   "sideBar": true,
   "skip_h1_title": true,
   "title_cell": "Table of Contents",
   "title_sidebar": "Contents",
   "toc_cell": false,
   "toc_position": {
    "height": "calc(100% - 180px)",
    "left": "10px",
    "top": "150px",
    "width": "190.75px"
   },
   "toc_section_display": true,
   "toc_window_display": true
  }
 },
 "nbformat": 4,
 "nbformat_minor": 2
}
